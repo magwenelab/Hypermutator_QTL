{
 "cells": [
  {
   "cell_type": "code",
   "execution_count": 1,
   "metadata": {},
   "outputs": [],
   "source": [
    "import numpy as np, pandas as pd\n",
    "from Bio import SeqIO"
   ]
  },
  {
   "cell_type": "code",
   "execution_count": 2,
   "metadata": {},
   "outputs": [],
   "source": [
    "#refpath = '/home/croth/Hypermutator_mac/DATA/FungiDB-46_CneoformansH99_Genome.fasta'\n",
    "refpath = '/home/croth/Desktop/SSK1/FungiDB-43_CneoformansH99_Genome.fasta'\n",
    "\n",
    "REF = [s for s in SeqIO.parse(refpath,format='fasta')]"
   ]
  },
  {
   "cell_type": "code",
   "execution_count": 3,
   "metadata": {},
   "outputs": [],
   "source": [
    "## Set paths to genotype dataframes\n",
    "gt_path = '../GENOTYPE/Bt65xH99_F1_progeny-SNPS.csv.gz'"
   ]
  },
  {
   "cell_type": "code",
   "execution_count": 4,
   "metadata": {},
   "outputs": [],
   "source": [
    "## Load in genotype data\n",
    "## Genotypes per site\n",
    "SNP = pd.read_csv(gt_path,index_col=0)"
   ]
  },
  {
   "cell_type": "code",
   "execution_count": 5,
   "metadata": {},
   "outputs": [
    {
     "data": {
      "text/html": [
       "<div>\n",
       "<style scoped>\n",
       "    .dataframe tbody tr th:only-of-type {\n",
       "        vertical-align: middle;\n",
       "    }\n",
       "\n",
       "    .dataframe tbody tr th {\n",
       "        vertical-align: top;\n",
       "    }\n",
       "\n",
       "    .dataframe thead th {\n",
       "        text-align: right;\n",
       "    }\n",
       "</style>\n",
       "<table border=\"1\" class=\"dataframe\">\n",
       "  <thead>\n",
       "    <tr style=\"text-align: right;\">\n",
       "      <th></th>\n",
       "      <th>Seqid</th>\n",
       "      <th>Length</th>\n",
       "      <th>Contig</th>\n",
       "      <th>Chrom</th>\n",
       "      <th>Cumsum</th>\n",
       "      <th>Midpts</th>\n",
       "      <th>Nsnps</th>\n",
       "    </tr>\n",
       "  </thead>\n",
       "  <tbody>\n",
       "    <tr>\n",
       "      <th>10</th>\n",
       "      <td>CP003830.1</td>\n",
       "      <td>1561994</td>\n",
       "      <td>Chr_11</td>\n",
       "      <td>11</td>\n",
       "      <td>14855526</td>\n",
       "      <td>15636523.0</td>\n",
       "      <td>18069</td>\n",
       "    </tr>\n",
       "    <tr>\n",
       "      <th>11</th>\n",
       "      <td>CP003831.1</td>\n",
       "      <td>774062</td>\n",
       "      <td>Chr_12</td>\n",
       "      <td>12</td>\n",
       "      <td>16417520</td>\n",
       "      <td>16804551.0</td>\n",
       "      <td>9015</td>\n",
       "    </tr>\n",
       "    <tr>\n",
       "      <th>12</th>\n",
       "      <td>CP003832.1</td>\n",
       "      <td>756744</td>\n",
       "      <td>Chr_13</td>\n",
       "      <td>13</td>\n",
       "      <td>17191582</td>\n",
       "      <td>17569954.0</td>\n",
       "      <td>8509</td>\n",
       "    </tr>\n",
       "    <tr>\n",
       "      <th>13</th>\n",
       "      <td>CP003833.2</td>\n",
       "      <td>942867</td>\n",
       "      <td>Chr_14</td>\n",
       "      <td>14</td>\n",
       "      <td>17948326</td>\n",
       "      <td>18419759.5</td>\n",
       "      <td>11172</td>\n",
       "    </tr>\n",
       "    <tr>\n",
       "      <th>14</th>\n",
       "      <td>CP003834.1</td>\n",
       "      <td>24919</td>\n",
       "      <td>M</td>\n",
       "      <td>M</td>\n",
       "      <td>18891193</td>\n",
       "      <td>18903652.5</td>\n",
       "      <td>0</td>\n",
       "    </tr>\n",
       "  </tbody>\n",
       "</table>\n",
       "</div>"
      ],
      "text/plain": [
       "         Seqid   Length  Contig Chrom    Cumsum      Midpts  Nsnps\n",
       "10  CP003830.1  1561994  Chr_11    11  14855526  15636523.0  18069\n",
       "11  CP003831.1   774062  Chr_12    12  16417520  16804551.0   9015\n",
       "12  CP003832.1   756744  Chr_13    13  17191582  17569954.0   8509\n",
       "13  CP003833.2   942867  Chr_14    14  17948326  18419759.5  11172\n",
       "14  CP003834.1    24919       M     M  18891193  18903652.5      0"
      ]
     },
     "execution_count": 5,
     "metadata": {},
     "output_type": "execute_result"
    }
   ],
   "source": [
    "clens = pd.DataFrame([(s.id,len(s.seq)) for s in REF],columns=['Seqid','Length'])\n",
    "clens['Contig'] = -1\n",
    "clens['Chrom'] = -1\n",
    "\n",
    "\n",
    "chrom_remap = pd.DataFrame([(c,int(c.split(\"_\")[-1])) \n",
    "                            for c in  sorted(SNP.Contig.unique())],\n",
    "                           columns = ['Contig','Chrom'])\n",
    "\n",
    "for i,j in chrom_remap.iterrows():\n",
    "    clens.loc[j.Chrom-1,'Contig'] = j.Contig\n",
    "    clens.loc[j.Chrom-1,'Chrom'] = int(j.Chrom)\n",
    "    \n",
    "clens.replace(-1,'M',inplace=True)\n",
    "\n",
    "clens['Cumsum'] = [0] + list(clens.Length.cumsum()[:-1])\n",
    "clens['Midpts'] = clens.Length/2 + clens.Cumsum\n",
    "\n",
    "## Calculate the number of SNPs per chromosome\n",
    "clens['Nsnps'] = [SNP[(SNP.Contig==c)].shape[0] for c in clens.Contig]\n",
    "\n",
    "## View tail\n",
    "clens.tail()"
   ]
  },
  {
   "cell_type": "code",
   "execution_count": 6,
   "metadata": {},
   "outputs": [],
   "source": [
    "## SAve out\n",
    "clens.to_csv('../GENOTYPE/H99_chrommap.csv.gz',index=False)"
   ]
  },
  {
   "cell_type": "code",
   "execution_count": null,
   "metadata": {},
   "outputs": [],
   "source": []
  }
 ],
 "metadata": {
  "kernelspec": {
   "display_name": "Python 3",
   "language": "python",
   "name": "python3"
  },
  "language_info": {
   "codemirror_mode": {
    "name": "ipython",
    "version": 3
   },
   "file_extension": ".py",
   "mimetype": "text/x-python",
   "name": "python",
   "nbconvert_exporter": "python",
   "pygments_lexer": "ipython3",
   "version": "3.7.3"
  }
 },
 "nbformat": 4,
 "nbformat_minor": 4
}
