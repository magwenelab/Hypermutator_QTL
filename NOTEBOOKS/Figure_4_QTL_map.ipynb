{
 "cells": [
  {
   "cell_type": "code",
   "execution_count": 1,
   "metadata": {},
   "outputs": [],
   "source": [
    "## Import needed mods\n",
    "import numpy as np, pandas as pd, os, glob, seaborn as sns\n",
    "import vcfpy as vcf, hypermutatorqtl as hqtl\n",
    "from matplotlib import pyplot as plt\n",
    "%matplotlib inline"
   ]
  },
  {
   "cell_type": "code",
   "execution_count": 2,
   "metadata": {},
   "outputs": [
    {
     "data": {
      "text/html": [
       "<div>\n",
       "<style scoped>\n",
       "    .dataframe tbody tr th:only-of-type {\n",
       "        vertical-align: middle;\n",
       "    }\n",
       "\n",
       "    .dataframe tbody tr th {\n",
       "        vertical-align: top;\n",
       "    }\n",
       "\n",
       "    .dataframe thead th {\n",
       "        text-align: right;\n",
       "    }\n",
       "</style>\n",
       "<table border=\"1\" class=\"dataframe\">\n",
       "  <thead>\n",
       "    <tr style=\"text-align: right;\">\n",
       "      <th></th>\n",
       "      <th>30</th>\n",
       "      <th>35</th>\n",
       "      <th>47</th>\n",
       "      <th>10</th>\n",
       "      <th>5</th>\n",
       "    </tr>\n",
       "  </thead>\n",
       "  <tbody>\n",
       "    <tr>\n",
       "      <th>F1 Progeny #</th>\n",
       "      <td>30</td>\n",
       "      <td>35</td>\n",
       "      <td>47</td>\n",
       "      <td>10</td>\n",
       "      <td>5</td>\n",
       "    </tr>\n",
       "    <tr>\n",
       "      <th>Mutation rate (qualitative)</th>\n",
       "      <td>---</td>\n",
       "      <td>---</td>\n",
       "      <td>---</td>\n",
       "      <td>---</td>\n",
       "      <td>---</td>\n",
       "    </tr>\n",
       "    <tr>\n",
       "      <th>Mutation rate (quantitative)</th>\n",
       "      <td>0</td>\n",
       "      <td>3.09632e-09</td>\n",
       "      <td>3.37894e-09</td>\n",
       "      <td>5.80508e-09</td>\n",
       "      <td>6.6136e-09</td>\n",
       "    </tr>\n",
       "    <tr>\n",
       "      <th>Upper confidence interval</th>\n",
       "      <td>0</td>\n",
       "      <td>2.6642e-10</td>\n",
       "      <td>2.5863e-10</td>\n",
       "      <td>9.7708e-10</td>\n",
       "      <td>1.7808e-09</td>\n",
       "    </tr>\n",
       "    <tr>\n",
       "      <th>Lower confidence interval</th>\n",
       "      <td>0</td>\n",
       "      <td>7.93921e-09</td>\n",
       "      <td>8.79736e-09</td>\n",
       "      <td>1.32958e-08</td>\n",
       "      <td>1.34964e-08</td>\n",
       "    </tr>\n",
       "    <tr>\n",
       "      <th>Transposition frequency</th>\n",
       "      <td>0</td>\n",
       "      <td>0</td>\n",
       "      <td>100</td>\n",
       "      <td>0</td>\n",
       "      <td>20</td>\n",
       "    </tr>\n",
       "    <tr>\n",
       "      <th>Rate</th>\n",
       "      <td>0</td>\n",
       "      <td>0.0309632</td>\n",
       "      <td>0.0337894</td>\n",
       "      <td>0.0580508</td>\n",
       "      <td>0.066136</td>\n",
       "    </tr>\n",
       "    <tr>\n",
       "      <th>Uci</th>\n",
       "      <td>0</td>\n",
       "      <td>0.0026642</td>\n",
       "      <td>0.0025863</td>\n",
       "      <td>0.0097708</td>\n",
       "      <td>0.017808</td>\n",
       "    </tr>\n",
       "    <tr>\n",
       "      <th>Lci</th>\n",
       "      <td>0</td>\n",
       "      <td>0.0793921</td>\n",
       "      <td>0.0879736</td>\n",
       "      <td>0.132958</td>\n",
       "      <td>0.134964</td>\n",
       "    </tr>\n",
       "  </tbody>\n",
       "</table>\n",
       "</div>"
      ],
      "text/plain": [
       "                               30           35           47           10  \\\n",
       "F1 Progeny #                   30           35           47           10   \n",
       "Mutation rate (qualitative)   ---          ---          ---          ---   \n",
       "Mutation rate (quantitative)    0  3.09632e-09  3.37894e-09  5.80508e-09   \n",
       "Upper confidence interval       0   2.6642e-10   2.5863e-10   9.7708e-10   \n",
       "Lower confidence interval       0  7.93921e-09  8.79736e-09  1.32958e-08   \n",
       "Transposition frequency         0            0          100            0   \n",
       "Rate                            0    0.0309632    0.0337894    0.0580508   \n",
       "Uci                             0    0.0026642    0.0025863    0.0097708   \n",
       "Lci                             0    0.0793921    0.0879736     0.132958   \n",
       "\n",
       "                                        5  \n",
       "F1 Progeny #                            5  \n",
       "Mutation rate (qualitative)           ---  \n",
       "Mutation rate (quantitative)   6.6136e-09  \n",
       "Upper confidence interval      1.7808e-09  \n",
       "Lower confidence interval     1.34964e-08  \n",
       "Transposition frequency                20  \n",
       "Rate                             0.066136  \n",
       "Uci                              0.017808  \n",
       "Lci                              0.134964  "
      ]
     },
     "execution_count": 2,
     "metadata": {},
     "output_type": "execute_result"
    }
   ],
   "source": [
    "## Set paths to phenotype data\n",
    "pheno_path = '../PHENOTYPE/F1-progeny-info-processed.csv.gz'\n",
    "\n",
    "## Set path to chromosome length dataframe\n",
    "chrlen_path = '../DATA/Clens.csv.gz'\n",
    "\n",
    "## Set paths to genotype dataframes\n",
    "gt_path = '../GENOTYPE/Bt65xH99_F1_progeny-SNPS.csv.gz'\n",
    "\n",
    "## Set MAT locus\n",
    "MAT = hqtl.MAT\n",
    "\n",
    "## Set parental lables\n",
    "h99_label = hqtl.h99_label\n",
    "bt_label =  hqtl.bt_label\n",
    "\n",
    "## Set kb conversion factor\n",
    "kb = 1000\n",
    "\n",
    "## Bring in centromere paths\n",
    "Centromeres = hqtl.Centromeres\n",
    "\n",
    "## Load in phenotype data\n",
    "data = pd.read_csv(pheno_path,index_col=0)\n",
    "\n",
    "## View head\n",
    "data.head().T"
   ]
  },
  {
   "cell_type": "code",
   "execution_count": 3,
   "metadata": {},
   "outputs": [
    {
     "data": {
      "text/plain": [
       "((215411, 38), ['Chr_1', 'Chr_10', 'Chr_11'], ['41', '17', '36'])"
      ]
     },
     "execution_count": 3,
     "metadata": {},
     "output_type": "execute_result"
    }
   ],
   "source": [
    "## Load in genotype data\n",
    "## Genotypes per site\n",
    "SNP = pd.read_csv(gt_path,index_col=0)\n",
    "\n",
    "## Gather columns from dataframe\n",
    "cols = SNP.columns.tolist()\n",
    "\n",
    "## Gather samples\n",
    "samples = cols[:cols.index('Pos')]\n",
    "\n",
    "## Check work\n",
    "assert len(samples) == 28, \"Missing samples\"\n",
    "\n",
    "## Gather contig names\n",
    "chrlist = sorted(SNP.Contig.unique())\n",
    "\n",
    "## Check work\n",
    "assert len(chrlist) >= 14, \"Missing chromosomes in genotype data.\"\n",
    "\n",
    "## show shape of df, print a few chromosomes, and print some samples\n",
    "SNP.shape, chrlist[:3], samples[:3]"
   ]
  },
  {
   "cell_type": "code",
   "execution_count": 4,
   "metadata": {},
   "outputs": [
    {
     "data": {
      "text/plain": [
       "(45.0, 0.999470744717893)"
      ]
     },
     "execution_count": 4,
     "metadata": {},
     "output_type": "execute_result"
    }
   ],
   "source": [
    "## Calculate the inter marker interval\n",
    "imi = np.concatenate([np.abs(np.diff(a[1].Pos)) \n",
    "                      for a in SNP.groupby('Contig')])\n",
    "\n",
    "## take imi < 2 kb\n",
    "imi_2000 = [i for i in imi if i<2*kb]\n",
    "\n",
    "## print median imi and percent < 2kb\n",
    "np.median(imi), len(imi_2000)/len(imi)"
   ]
  },
  {
   "cell_type": "code",
   "execution_count": 5,
   "metadata": {},
   "outputs": [
    {
     "data": {
      "text/html": [
       "<div>\n",
       "<style scoped>\n",
       "    .dataframe tbody tr th:only-of-type {\n",
       "        vertical-align: middle;\n",
       "    }\n",
       "\n",
       "    .dataframe tbody tr th {\n",
       "        vertical-align: top;\n",
       "    }\n",
       "\n",
       "    .dataframe thead th {\n",
       "        text-align: right;\n",
       "    }\n",
       "</style>\n",
       "<table border=\"1\" class=\"dataframe\">\n",
       "  <thead>\n",
       "    <tr style=\"text-align: right;\">\n",
       "      <th></th>\n",
       "      <th>41</th>\n",
       "      <th>17</th>\n",
       "      <th>36</th>\n",
       "      <th>14</th>\n",
       "      <th>12</th>\n",
       "      <th>29</th>\n",
       "      <th>34</th>\n",
       "      <th>26</th>\n",
       "      <th>13</th>\n",
       "      <th>18</th>\n",
       "      <th>...</th>\n",
       "      <th>DPmin</th>\n",
       "      <th>Alt</th>\n",
       "      <th>Ref</th>\n",
       "      <th>Type</th>\n",
       "      <th>Altlen</th>\n",
       "      <th>Qual</th>\n",
       "      <th>NALT</th>\n",
       "      <th>AF</th>\n",
       "      <th>Bt65</th>\n",
       "      <th>crg1</th>\n",
       "    </tr>\n",
       "  </thead>\n",
       "  <tbody>\n",
       "    <tr>\n",
       "      <th>191</th>\n",
       "      <td>1.0</td>\n",
       "      <td>1.0</td>\n",
       "      <td>0.0</td>\n",
       "      <td>1.0</td>\n",
       "      <td>1.0</td>\n",
       "      <td>0.0</td>\n",
       "      <td>0.0</td>\n",
       "      <td>0.0</td>\n",
       "      <td>1.0</td>\n",
       "      <td>0.0</td>\n",
       "      <td>...</td>\n",
       "      <td>11.0</td>\n",
       "      <td>T</td>\n",
       "      <td>C</td>\n",
       "      <td>SNV</td>\n",
       "      <td>1.0</td>\n",
       "      <td>4.526492</td>\n",
       "      <td>1.0</td>\n",
       "      <td>0.464286</td>\n",
       "      <td>1.0</td>\n",
       "      <td>0.0</td>\n",
       "    </tr>\n",
       "    <tr>\n",
       "      <th>192</th>\n",
       "      <td>1.0</td>\n",
       "      <td>1.0</td>\n",
       "      <td>0.0</td>\n",
       "      <td>1.0</td>\n",
       "      <td>1.0</td>\n",
       "      <td>0.0</td>\n",
       "      <td>0.0</td>\n",
       "      <td>0.0</td>\n",
       "      <td>0.0</td>\n",
       "      <td>0.0</td>\n",
       "      <td>...</td>\n",
       "      <td>12.0</td>\n",
       "      <td>T</td>\n",
       "      <td>C</td>\n",
       "      <td>SNV</td>\n",
       "      <td>1.0</td>\n",
       "      <td>4.516699</td>\n",
       "      <td>1.0</td>\n",
       "      <td>0.428571</td>\n",
       "      <td>1.0</td>\n",
       "      <td>0.0</td>\n",
       "    </tr>\n",
       "    <tr>\n",
       "      <th>339</th>\n",
       "      <td>0.0</td>\n",
       "      <td>1.0</td>\n",
       "      <td>0.0</td>\n",
       "      <td>1.0</td>\n",
       "      <td>1.0</td>\n",
       "      <td>1.0</td>\n",
       "      <td>0.0</td>\n",
       "      <td>1.0</td>\n",
       "      <td>1.0</td>\n",
       "      <td>1.0</td>\n",
       "      <td>...</td>\n",
       "      <td>73.0</td>\n",
       "      <td>G</td>\n",
       "      <td>C</td>\n",
       "      <td>SNV</td>\n",
       "      <td>1.0</td>\n",
       "      <td>4.731814</td>\n",
       "      <td>1.0</td>\n",
       "      <td>0.500000</td>\n",
       "      <td>1.0</td>\n",
       "      <td>0.0</td>\n",
       "    </tr>\n",
       "    <tr>\n",
       "      <th>341</th>\n",
       "      <td>0.0</td>\n",
       "      <td>1.0</td>\n",
       "      <td>0.0</td>\n",
       "      <td>1.0</td>\n",
       "      <td>1.0</td>\n",
       "      <td>1.0</td>\n",
       "      <td>0.0</td>\n",
       "      <td>1.0</td>\n",
       "      <td>1.0</td>\n",
       "      <td>1.0</td>\n",
       "      <td>...</td>\n",
       "      <td>85.0</td>\n",
       "      <td>T</td>\n",
       "      <td>A</td>\n",
       "      <td>SNV</td>\n",
       "      <td>1.0</td>\n",
       "      <td>4.592010</td>\n",
       "      <td>1.0</td>\n",
       "      <td>0.428571</td>\n",
       "      <td>1.0</td>\n",
       "      <td>0.0</td>\n",
       "    </tr>\n",
       "    <tr>\n",
       "      <th>377</th>\n",
       "      <td>0.0</td>\n",
       "      <td>0.0</td>\n",
       "      <td>0.0</td>\n",
       "      <td>1.0</td>\n",
       "      <td>0.0</td>\n",
       "      <td>1.0</td>\n",
       "      <td>0.0</td>\n",
       "      <td>0.0</td>\n",
       "      <td>1.0</td>\n",
       "      <td>0.0</td>\n",
       "      <td>...</td>\n",
       "      <td>80.0</td>\n",
       "      <td>G</td>\n",
       "      <td>A</td>\n",
       "      <td>SNV</td>\n",
       "      <td>1.0</td>\n",
       "      <td>4.520617</td>\n",
       "      <td>1.0</td>\n",
       "      <td>0.214286</td>\n",
       "      <td>1.0</td>\n",
       "      <td>0.0</td>\n",
       "    </tr>\n",
       "  </tbody>\n",
       "</table>\n",
       "<p>5 rows × 40 columns</p>\n",
       "</div>"
      ],
      "text/plain": [
       "      41   17   36   14   12   29   34   26   13   18  ...  DPmin  Alt  Ref  \\\n",
       "191  1.0  1.0  0.0  1.0  1.0  0.0  0.0  0.0  1.0  0.0  ...   11.0    T    C   \n",
       "192  1.0  1.0  0.0  1.0  1.0  0.0  0.0  0.0  0.0  0.0  ...   12.0    T    C   \n",
       "339  0.0  1.0  0.0  1.0  1.0  1.0  0.0  1.0  1.0  1.0  ...   73.0    G    C   \n",
       "341  0.0  1.0  0.0  1.0  1.0  1.0  0.0  1.0  1.0  1.0  ...   85.0    T    A   \n",
       "377  0.0  0.0  0.0  1.0  0.0  1.0  0.0  0.0  1.0  0.0  ...   80.0    G    A   \n",
       "\n",
       "     Type  Altlen      Qual  NALT        AF  Bt65  crg1  \n",
       "191   SNV     1.0  4.526492   1.0  0.464286   1.0   0.0  \n",
       "192   SNV     1.0  4.516699   1.0  0.428571   1.0   0.0  \n",
       "339   SNV     1.0  4.731814   1.0  0.500000   1.0   0.0  \n",
       "341   SNV     1.0  4.592010   1.0  0.428571   1.0   0.0  \n",
       "377   SNV     1.0  4.520617   1.0  0.214286   1.0   0.0  \n",
       "\n",
       "[5 rows x 40 columns]"
      ]
     },
     "execution_count": 5,
     "metadata": {},
     "output_type": "execute_result"
    }
   ],
   "source": [
    "## Convert SNP data to float\n",
    "## Set columns not to be converted\n",
    "col_not_flot = ['Contig','Alt','Ref','Type']\n",
    "\n",
    "## Convert each column in SNP\n",
    "for c in SNP.columns:\n",
    "    if c not in col_not_flot:\n",
    "        SNP[c] = SNP[c].apply(float)\n",
    "\n",
    "## Add parental data\n",
    "## Set SNP data\n",
    "SNP['Bt65'] = 1.\n",
    "SNP['crg1'] = 0.\n",
    "        \n",
    "## View head\n",
    "SNP.head()"
   ]
  },
  {
   "cell_type": "code",
   "execution_count": 6,
   "metadata": {},
   "outputs": [
    {
     "data": {
      "text/html": [
       "<div>\n",
       "<style scoped>\n",
       "    .dataframe tbody tr th:only-of-type {\n",
       "        vertical-align: middle;\n",
       "    }\n",
       "\n",
       "    .dataframe tbody tr th {\n",
       "        vertical-align: top;\n",
       "    }\n",
       "\n",
       "    .dataframe thead th {\n",
       "        text-align: right;\n",
       "    }\n",
       "</style>\n",
       "<table border=\"1\" class=\"dataframe\">\n",
       "  <thead>\n",
       "    <tr style=\"text-align: right;\">\n",
       "      <th></th>\n",
       "      <th>Contig</th>\n",
       "      <th>Pos</th>\n",
       "      <th>Cumsum</th>\n",
       "      <th>Midpts</th>\n",
       "      <th>Nsnps</th>\n",
       "    </tr>\n",
       "  </thead>\n",
       "  <tbody>\n",
       "    <tr>\n",
       "      <th>1</th>\n",
       "      <td>Chr_1</td>\n",
       "      <td>2291717</td>\n",
       "      <td>0</td>\n",
       "      <td>1145858.5</td>\n",
       "      <td>25192</td>\n",
       "    </tr>\n",
       "    <tr>\n",
       "      <th>2</th>\n",
       "      <td>Chr_2</td>\n",
       "      <td>1618389</td>\n",
       "      <td>2291717</td>\n",
       "      <td>3100911.5</td>\n",
       "      <td>19099</td>\n",
       "    </tr>\n",
       "    <tr>\n",
       "      <th>3</th>\n",
       "      <td>Chr_3</td>\n",
       "      <td>1575141</td>\n",
       "      <td>3910106</td>\n",
       "      <td>4697676.5</td>\n",
       "      <td>18159</td>\n",
       "    </tr>\n",
       "    <tr>\n",
       "      <th>4</th>\n",
       "      <td>Chr_4</td>\n",
       "      <td>1084216</td>\n",
       "      <td>5485247</td>\n",
       "      <td>6027355.0</td>\n",
       "      <td>12037</td>\n",
       "    </tr>\n",
       "    <tr>\n",
       "      <th>5</th>\n",
       "      <td>Chr_5</td>\n",
       "      <td>1821986</td>\n",
       "      <td>6569463</td>\n",
       "      <td>7480456.0</td>\n",
       "      <td>21414</td>\n",
       "    </tr>\n",
       "  </tbody>\n",
       "</table>\n",
       "</div>"
      ],
      "text/plain": [
       "  Contig      Pos   Cumsum     Midpts  Nsnps\n",
       "1  Chr_1  2291717        0  1145858.5  25192\n",
       "2  Chr_2  1618389  2291717  3100911.5  19099\n",
       "3  Chr_3  1575141  3910106  4697676.5  18159\n",
       "4  Chr_4  1084216  5485247  6027355.0  12037\n",
       "5  Chr_5  1821986  6569463  7480456.0  21414"
      ]
     },
     "execution_count": 6,
     "metadata": {},
     "output_type": "execute_result"
    }
   ],
   "source": [
    "## Load in chromosome length dataframe\n",
    "clens = pd.read_csv(chrlen_path,index_col=0)\n",
    "\n",
    "## Calculate the number of SNPs per chromosome\n",
    "clens['Nsnps'] = [SNP[(SNP.Contig==c)].shape[0] \n",
    "                  for c in clens.Contig]\n",
    "\n",
    "## View head\n",
    "clens.head()"
   ]
  },
  {
   "cell_type": "code",
   "execution_count": 7,
   "metadata": {},
   "outputs": [
    {
     "data": {
      "image/png": "[encoded data removed]",
      "text/plain": [
       "<Figure size 432x288 with 1 Axes>"
      ]
     },
     "metadata": {
      "needs_background": "light"
     },
     "output_type": "display_data"
    }
   ],
   "source": [
    "## Plot the number of SNPs as a ftn of chromosome size\n",
    "plt.plot(clens.Pos.values/kb,clens.Nsnps,'ko',alpha=.2);\n",
    "\n",
    "## Set y and x-lables\n",
    "plt.ylabel('Number of SNPs')\n",
    "plt.xlabel('Chromosome Length (kb)');"
   ]
  },
  {
   "cell_type": "code",
   "execution_count": 8,
   "metadata": {},
   "outputs": [
    {
     "data": {
      "text/plain": [
       "26"
      ]
     },
     "execution_count": 8,
     "metadata": {},
     "output_type": "execute_result"
    }
   ],
   "source": [
    "## Append parental sample names\n",
    "if 'Bt65' not in samples:\n",
    "    samples.append('Bt65')\n",
    "    samples.append('crg1')\n",
    "    \n",
    "## Drop baddies\n",
    "segs_to_use = [str(s) for s in samples \n",
    "               if s not in ['12','14','25','41']]\n",
    "\n",
    "## print number of segregants\n",
    "len(segs_to_use)"
   ]
  },
  {
   "cell_type": "code",
   "execution_count": 9,
   "metadata": {},
   "outputs": [
    {
     "data": {
      "image/png": "[encoded data removed]",
      "text/plain": [
       "<Figure size 432x288 with 1 Axes>"
      ]
     },
     "metadata": {
      "needs_background": "light"
     },
     "output_type": "display_data"
    }
   ],
   "source": [
    "## Gather phenotype data\n",
    "to_use_data = data.T[segs_to_use].T[['F1 Progeny #','Rate']].copy()#*(10**9)\n",
    "to_use_data.index =[ str(s) for s in  to_use_data.index]\n",
    "to_use_data['Rate']=to_use_data['Rate'].apply(float)\n",
    "\n",
    "## plot histogram of phenotype\n",
    "plt.hist(to_use_data['Rate'].values);\n",
    "\n",
    "## add x and ylabel\n",
    "plt.xlabel('Mutation Rate x 10$^7$')\n",
    "plt.ylabel('Number of progeny');"
   ]
  },
  {
   "cell_type": "code",
   "execution_count": 10,
   "metadata": {},
   "outputs": [
    {
     "data": {
      "text/plain": [
       "28"
      ]
     },
     "execution_count": 10,
     "metadata": {},
     "output_type": "execute_result"
    }
   ],
   "source": [
    "## Gather segregants\n",
    "segs = [s for s in samples if s not in ['Bt65','crg1']]\n",
    "len(segs)"
   ]
  },
  {
   "cell_type": "code",
   "execution_count": 11,
   "metadata": {},
   "outputs": [
    {
     "name": "stdout",
     "output_type": "stream",
     "text": [
      "11 12 0.9131366682533448\n",
      "12 11 0.9131366682533448\n",
      "23 41 0.7645917173266635\n",
      "41 23 0.7645917173266635\n"
     ]
    },
    {
     "data": {
      "image/png": "[encoded data removed]",
      "text/plain": [
       "<Figure size 720x576 with 2 Axes>"
      ]
     },
     "metadata": {
      "needs_background": "light"
     },
     "output_type": "display_data"
    }
   ],
   "source": [
    "## Plot correlation of genoytpes\n",
    "## among progeny, identfying clones\n",
    "\n",
    "## Calculate correlations\n",
    "corrdf = SNP[sorted(segs)].drop_duplicates().corr()\n",
    "\n",
    "## Call figure\n",
    "fig,ax = plt.subplots(1,1,figsize=(10,8))\n",
    "sns.heatmap(corrdf);\n",
    "plt.ylabel('F$_1$ Progeny',fontsize=12)\n",
    "plt.xlabel('F$_1$ Progeny',fontsize=12);\n",
    "\n",
    "## print clone corrilation\n",
    "for s in corrdf.columns:\n",
    "    for j in corrdf.columns:\n",
    "        if s != j and corrdf[s][j] > .5:\n",
    "            print(s,j,corrdf[s][j])"
   ]
  },
  {
   "cell_type": "code",
   "execution_count": 12,
   "metadata": {},
   "outputs": [],
   "source": [
    "## Check work\n",
    "assert 'Bt65' in SNP.columns\n",
    "assert 'crg1' in SNP.columns\n",
    "assert 'crg1' in segs_to_use\n",
    "assert 'Bt65' in segs_to_use"
   ]
  },
  {
   "cell_type": "code",
   "execution_count": 13,
   "metadata": {},
   "outputs": [],
   "source": [
    "## Conduct QTL mapping\n",
    "## Gather unique loci\n",
    "test = SNP[segs_to_use].drop_duplicates()\n",
    "\n",
    "## Check work\n",
    "assert test.shape[0] <= SNP.shape[0]\n",
    "\n",
    "## Cunduct QTL mapping\n",
    "test['Pval'] = test.apply(hqtl.crypto_kruskal,\n",
    "                args=[to_use_data.T[segs_to_use].T['Rate']],\n",
    "                axis=1)\n",
    "\n",
    "## Merge resutls and save\n",
    "pvaldf = SNP.merge(test)"
   ]
  },
  {
   "cell_type": "code",
   "execution_count": 14,
   "metadata": {},
   "outputs": [],
   "source": [
    "## Set colors\n",
    "chrom_colors = hqtl.colors"
   ]
  },
  {
   "cell_type": "code",
   "execution_count": 15,
   "metadata": {},
   "outputs": [
    {
     "data": {
      "image/png": "[encoded data removed]",
      "text/plain": [
       "<Figure size 432x288 with 1 Axes>"
      ]
     },
     "metadata": {
      "needs_background": "light"
     },
     "output_type": "display_data"
    }
   ],
   "source": [
    "## Conduct permutation tests\n",
    "## Initilize list\n",
    "perms = []\n",
    "\n",
    "## Set number of permutations and save path\n",
    "kps = 10000\n",
    "permpath = '../DATA/H99_Hyper_perms.csv.gz'\n",
    "\n",
    "## Load if they exist\n",
    "if os.path.exists(permpath):\n",
    "    perms = pd.read_csv(permpath,index_col=0).T.values[0]\n",
    "\n",
    "else:\n",
    "    \n",
    "    ## Condduct permutations\n",
    "    ## Gather loci for tests\n",
    "    test = SNP[segs_to_use].drop_duplicates()\n",
    "    \n",
    "    ## Rerun till kps is reached\n",
    "    while len(perms) < kps:\n",
    "    \n",
    "        ## permute segregants\n",
    "        ran_segs = np.random.permutation(segs_to_use)\n",
    "        \n",
    "        ## Cunduct QTL mapping\n",
    "        test['Pval'] = test[segs_to_use].apply(crypto_kruskal,\n",
    "                   args=[to_use_data.T[ran_segs].T['Rate'].values],\n",
    "                   axis=1)\n",
    "        \n",
    "        ## Append genome wide max\n",
    "        perms.append(test.Pval.max())\n",
    "    \n",
    "    ## Save perm datarame\n",
    "    pd.DataFrame(perms).to_csv(permpath)\n",
    "    \n",
    "## Gather thresholds and print\n",
    "thres_95 = np.round(np.percentile(perms,95),2)\n",
    "thres_99 = np.round(np.percentile(perms,99),2)\n",
    "\n",
    "## plot null distirbution of association\n",
    "## plot histogram\n",
    "plt.hist(perms);\n",
    "\n",
    "## Add 99 threhsold\n",
    "plt.vlines(thres_99,0,int(len(perms)/3),color='r');\n",
    "\n",
    "## Add lables\n",
    "plt.title('Null Distribution of Association',fontsize=14)\n",
    "plt.ylabel('Permutations',fontsize=14);\n",
    "plt.xlabel('$-\\log_{10}\\,(p-value)$ of Kruskal-Wallis H-test',\n",
    "           fontsize=14);"
   ]
  },
  {
   "cell_type": "code",
   "execution_count": 16,
   "metadata": {},
   "outputs": [],
   "source": [
    "## Gather maximum, right chromosome positon \n",
    "posmax = clens.Cumsum.tolist()[-1] + clens.Pos.tolist()[-1]"
   ]
  },
  {
   "cell_type": "code",
   "execution_count": 17,
   "metadata": {},
   "outputs": [],
   "source": [
    "## Slice pvalue dataframe on QTL chormosomes\n",
    "chr3_ix = pvaldf[(pvaldf.Contig=='Chr_3')].Pval.idxmax()\n",
    "chr3_gt = pvaldf.T[chr3_ix]\n",
    "to_use_data['CH3'] = chr3_gt\n",
    "\n",
    "\n",
    "chr11_ix = pvaldf[(pvaldf.Contig=='Chr_11')].Pval.idxmax()\n",
    "chr11_gt = pvaldf.T[chr11_ix]\n",
    "to_use_data['CH11'] = chr11_gt"
   ]
  },
  {
   "cell_type": "code",
   "execution_count": 18,
   "metadata": {},
   "outputs": [],
   "source": [
    "## Load in statsmdoels\n",
    "import statsmodels.formula.api as smf\n",
    "\n",
    "## Conduct linear regression\n",
    "ch3_res = smf.ols('Rate ~ CH3',data=to_use_data).fit()\n",
    "ch11_res = smf.ols('Rate ~ CH11',data=to_use_data).fit()\n",
    "\n",
    "## Gather R2\n",
    "ch3_rs = np.round(ch3_res.rsquared,2)\n",
    "ch11_rs = np.round(ch11_res.rsquared,2)"
   ]
  },
  {
   "cell_type": "code",
   "execution_count": 19,
   "metadata": {},
   "outputs": [],
   "source": [
    "## MAke float\n",
    "to_use_data['CH3'] = to_use_data['CH3'].apply(float)"
   ]
  },
  {
   "cell_type": "code",
   "execution_count": 20,
   "metadata": {},
   "outputs": [
    {
     "data": {
      "image/png": "[encoded data removed]",
      "text/plain": [
       "<Figure size 576x216 with 2 Axes>"
      ]
     },
     "metadata": {
      "needs_background": "light"
     },
     "output_type": "display_data"
    }
   ],
   "source": [
    "## plot phenotypes by genotypes for \n",
    "## Chromosome 3\n",
    "fig,ax = plt.subplots(1,2,figsize=(8,3))\n",
    "plt.sca(ax[0])\n",
    "sns.swarmplot(x='CH3',y='Rate',data=to_use_data);\n",
    "plt.xlabel('Chromosome 3\\nQTL Allele',fontsize=14);\n",
    "plt.ylabel('Mutation Rate x 10$^7$',fontsize=14)\n",
    "plt.xticks([0,1],['H99','BT65'],fontsize=14);\n",
    "plt.ylim(-0.1,5)\n",
    "[ax[0].spines[s].set_visible(False) for s in ['top','right']]\n",
    "plt.text(0,4.5,'$R^2 = %s$'%ch3_rs,fontsize=14,va='center',ha='center')\n",
    "\n",
    "## And chromosome 11\n",
    "plt.sca(ax[1])\n",
    "plt.text(0,4.5,'$R^2 = %s$'%ch11_rs,fontsize=14,va='center',ha='center')\n",
    "sns.swarmplot(x='CH11',y='Rate',data=to_use_data);\n",
    "plt.ylim(-0.1,5)\n",
    "plt.ylabel('');plt.xlabel('Chromosome 11\\nQTL Allele',fontsize=14);\n",
    "plt.xticks([0,1],['H99','BT65'],fontsize=14);\n",
    "[ax[1].spines[s].set_visible(False) for s in ['top','right']];"
   ]
  },
  {
   "cell_type": "code",
   "execution_count": 21,
   "metadata": {},
   "outputs": [],
   "source": [
    "## Gather chormosome 3 and 11 SNPs\n",
    "CH3 = SNP[(SNP.Contig=='Chr_3')]\n",
    "CH11 = SNP[(SNP.Contig=='Chr_11')]"
   ]
  },
  {
   "cell_type": "code",
   "execution_count": 22,
   "metadata": {},
   "outputs": [
    {
     "data": {
      "text/plain": [
       "(918548.4125, 1120200.5)"
      ]
     },
     "execution_count": 22,
     "metadata": {},
     "output_type": "execute_result"
    }
   ],
   "source": [
    "## Conduct boot strapping on chrom 3\n",
    "## To calculate CI\n",
    "## Set savepath\n",
    "ch3_95_savepath = '../DATA/H99_chr3.csv.gz'\n",
    "\n",
    "## If it dosn't exist, run boot strapping\n",
    "if not os.path.exists(ch3_95_savepath):\n",
    "    \n",
    "    ## CAlcualte 95 CI and save\n",
    "    ch3l, ch3r = hqtl.qtl_boot(segs_to_use,CH3,to_use_data,'Rate')\n",
    "    pd.DataFrame([ch3l,ch3r],columns=['Chr_3']).to_csv(ch3_95_savepath)\n",
    "\n",
    "else:\n",
    "    \n",
    "    ## Load dataframe\n",
    "    ch3_95df = pd.read_csv(ch3_95_savepath,index_col=0)\n",
    "    ch3l,ch3r = ch3_95df.T.values[0]\n",
    "\n",
    "## print bounds\n",
    "ch3l,ch3r"
   ]
  },
  {
   "cell_type": "code",
   "execution_count": 23,
   "metadata": {},
   "outputs": [
    {
     "data": {
      "text/plain": [
       "(987379.1125, 1193972.0)"
      ]
     },
     "execution_count": 23,
     "metadata": {},
     "output_type": "execute_result"
    }
   ],
   "source": [
    "## Conduct boot strapping on chrom 11\n",
    "## To calculate CI\n",
    "## Set savepath\n",
    "ch11_95_savepath = '../DATA/H99_chr11.csv.gz'\n",
    "\n",
    "## if it dosn't exist, run boot strapping\n",
    "if not os.path.exists(ch11_95_savepath):\n",
    "    \n",
    "    ## Calculte 95 CI and save\n",
    "    ch11l, ch11r = hqtl.qtl_boot(segs_to_use,CH11,to_use_data,'Rate')\n",
    "    pd.DataFrame([ch11l,ch11r],columns=['Chr_11']).to_csv(ch11_95_savepath)\n",
    "\n",
    "else:\n",
    "    \n",
    "    ## Load dataframe\n",
    "    ch11_95df = pd.read_csv(ch11_95_savepath,index_col=0)\n",
    "    ch11l,ch11r = ch11_95df.T.values[0]\n",
    "    \n",
    "## print bounds\n",
    "ch11l,ch11r"
   ]
  },
  {
   "cell_type": "code",
   "execution_count": 24,
   "metadata": {},
   "outputs": [
    {
     "data": {
      "image/png": "[encoded data removed]",
      "text/plain": [
       "<Figure size 864x216 with 1 Axes>"
      ]
     },
     "metadata": {
      "needs_background": "light"
     },
     "output_type": "display_data"
    }
   ],
   "source": [
    "## plot phenotype \n",
    "## Gather samples data\n",
    "to_plot = data.T[segs_to_use].T.sort_values('Rate')\n",
    "\n",
    "## Call figure\n",
    "fig, phenoax = plt.subplots(1,1,figsize=(12,3))\n",
    "\n",
    "## Remove spines\n",
    "[phenoax.spines[s].set_visible(False) for s in ['top','right']]\n",
    "\n",
    "## set xpos\n",
    "xpos = np.arange(to_plot.shape[0])\n",
    "\n",
    "## plot pphenotypes and 95 CI\n",
    "plt.plot(xpos,to_plot.Rate,'r.',label='Mean',ms=6);\n",
    "plt.vlines(xpos,to_plot.Lci,to_plot.Uci,\n",
    "           'k',alpha=0.42,label='95% CI')\n",
    "\n",
    "## Add legend and ylable\n",
    "plt.legend(loc=0,fontsize=14)\n",
    "plt.ylabel('Mutation Rate x 10$^7$',fontsize=14);\n",
    "\n",
    "## Add xtick/strian labels\n",
    "label_plot = []\n",
    "label_pos = []\n",
    "for i,s in enumerate(to_plot.index.tolist()):\n",
    "    \n",
    "    if s not in ['crg1','Bt65']:\n",
    "        label_plot.append('S%s'%s)\n",
    "        label_pos.append(i)\n",
    "    elif s == 'crg1':\n",
    "        label_plot.append(h99_label)\n",
    "    elif s == 'Bt65':\n",
    "        label_plot.append(bt_label)\n",
    "\n",
    "## Add xticks, xlables, and yticks\n",
    "plt.xticks(xpos,label_plot,rotation=90,fontsize=14)\n",
    "plt.xlabel('Strain Name',fontsize=14)\n",
    "plt.yticks(np.arange(0,7,1),fontsize=14);"
   ]
  },
  {
   "cell_type": "code",
   "execution_count": 25,
   "metadata": {},
   "outputs": [
    {
     "data": {
      "image/png": "[encoded data removed]",
      "text/plain": [
       "<Figure size 864x216 with 1 Axes>"
      ]
     },
     "metadata": {
      "needs_background": "light"
     },
     "output_type": "display_data"
    }
   ],
   "source": [
    "## Manhattan plot\n",
    "fig,qtlax = plt.subplots(1,1,figsize=(12,3))\n",
    "\n",
    "[qtlax.spines[s].set_visible(False) for s in ['top','right']];\n",
    "\n",
    "for i,c in clens.iterrows():\n",
    "    cumsum = c['Cumsum']\n",
    "    temp = pvaldf[(pvaldf.Contig==c.Contig)]\n",
    "    plt.plot(temp.Pos+cumsum,temp.Pval,\n",
    "             '.',alpha=0.5,\n",
    "             markersize=3,\n",
    "             color=chrom_colors[i%len(chrom_colors)]);\n",
    "    \n",
    "plt.ylabel('$-\\log_{10}\\,(p-value)$',fontsize=14);\n",
    "plt.ylim(-0.1,5.5)\n",
    "plt.yticks(np.arange(6),fontsize=14)\n",
    "\n",
    "plt.xticks(clens.Midpts.values,clens.index.values,fontsize=14);\n",
    "plt.xlabel('Chromosome',fontsize=14);\n",
    "\n",
    "plt.hlines(thres_99,clens.Pos.tolist()[0],\n",
    "           posmax,linestyle='--',linewidth=1,color='k')\n",
    "\n",
    "plt.text(clens.Midpts.tolist()[0]*(2.5/3),thres_99,\n",
    "         s = r'$\\alpha$ = 0.01',\n",
    "         va='center',ha='center',fontsize=14);"
   ]
  },
  {
   "cell_type": "code",
   "execution_count": 26,
   "metadata": {},
   "outputs": [
    {
     "data": {
      "image/png": "[encoded data removed]",
      "text/plain": [
       "<Figure size 504x216 with 1 Axes>"
      ]
     },
     "metadata": {
      "needs_background": "light"
     },
     "output_type": "display_data"
    }
   ],
   "source": [
    "## Chromsome 3 QTL\n",
    "fig, ch3ax = plt.subplots(1,1,figsize=(7,3))\n",
    "\n",
    "[ch3ax.spines[s].set_visible(False) for s in ['top','right']];\n",
    "\n",
    "temp = pvaldf[(pvaldf.Contig=='Chr_3')].copy()\n",
    "temp.sort_values('Pos',inplace=True)\n",
    "plt.plot(temp.Pos/1000,temp.Pval,'.',\n",
    "         color='tab:green',markersize=1,label='QTL');\n",
    "plt.hlines(-0.5,ch3l/1000,ch3r/1000)\n",
    "plt.vlines(np.array([ch3l/1000,ch3r/1000]),-.9,0,label='95% CI')\n",
    "plt.yticks(np.arange(6),fontsize=14)\n",
    "plt.xticks(fontsize=14)\n",
    "plt.xlabel('Chromosome 3 Coordinates (kb)',fontsize=14)\n",
    "plt.ylim(-1,5.5)\n",
    "plt.ylabel('$-\\log_{10}\\,(p-value)$',fontsize=14);\n",
    "\n",
    "plt.hlines(-1,*Centromeres.T[2].values/1000,\n",
    "           color='red',label='Centromere', linewidth=8)\n",
    "\n",
    "lgnd = plt.legend(bbox_to_anchor=(.4,1.1),fontsize=14)\n",
    "lgnd.legendHandles[0]._legmarker.set_markersize(10)\n",
    "lgnd.legendHandles[2].set_markersize(1);"
   ]
  },
  {
   "cell_type": "code",
   "execution_count": 27,
   "metadata": {},
   "outputs": [
    {
     "data": {
      "image/png": "[encoded data removed]",
      "text/plain": [
       "<Figure size 504x216 with 1 Axes>"
      ]
     },
     "metadata": {
      "needs_background": "light"
     },
     "output_type": "display_data"
    }
   ],
   "source": [
    "## Chromosome 11 QTL\n",
    "fig, ch11ax =  plt.subplots(1,1,figsize=(7,3))\n",
    "[ch11ax.spines[s].set_visible(False) for s in ['top','right']];\n",
    "\n",
    "temp = pvaldf[(pvaldf.Contig=='Chr_11')].copy()\n",
    "temp.sort_values('Pos',inplace=True)\n",
    "plt.plot(temp.Pos/1000,temp.Pval,'.',color='tab:blue',markersize=1,label='QTL');\n",
    "plt.hlines(-0.5,ch11l/1000,ch11r/1000);\n",
    "plt.vlines(np.array([ch11l/1000,ch11r/1000]),-.9,0,label='95% CI')\n",
    "plt.yticks(np.arange(6),fontsize=14);\n",
    "plt.xlabel('Chromosome 11 Coordinates (kb)',fontsize=14);\n",
    "plt.xticks(fontsize=14)\n",
    "plt.ylim(-1,5.5)\n",
    "plt.ylabel('$-\\log_{10}\\,(p-value)$',fontsize=14);\n",
    "plt.hlines(-1,*Centromeres.T[10].values/1000,\n",
    "           color='red',label='Centromere',linewidth=8)\n",
    "\n",
    "lgnd = plt.legend(bbox_to_anchor=(.4,1.1),fontsize=14)\n",
    "lgnd.legendHandles[0]._legmarker.set_markersize(10)\n",
    "lgnd.legendHandles[2].set_markersize(1);"
   ]
  },
  {
   "cell_type": "code",
   "execution_count": 28,
   "metadata": {},
   "outputs": [
    {
     "data": {
      "image/png": "[encoded data removed]",
      "text/plain": [
       "<Figure size 504x216 with 1 Axes>"
      ]
     },
     "metadata": {
      "needs_background": "light"
     },
     "output_type": "display_data"
    }
   ],
   "source": [
    "## phenotype by genotype \n",
    "fig, ch3pax = plt.subplots(1,1,figsize=(7,3))\n",
    "\n",
    "[ch3pax.spines[s].set_visible(False) for s in ['top','right']]\n",
    "\n",
    "sns.swarmplot(x='CH3',y='Rate',data=to_use_data,\n",
    "              size=10,alpha=0.75,palette='gray')#,palette='viridis');\n",
    "plt.xlabel('Chromosome 3 and 11 QTL Allele',fontsize=14)\n",
    "plt.ylabel('Mutation Rate x 10$^7$',fontsize=14)\n",
    "plt.xticks([0,1],[h99_label,bt_label],fontsize=14)\n",
    "\n",
    "plt.ylim(-0.5,5.5)\n",
    "plt.yticks(np.arange(6),fontsize=14)\n",
    "[ch3pax.spines[s].set_visible(False) for s in ['top','right']]\n",
    "plt.text(0,4.5,'$R^2 = %s$'%ch3_rs,fontsize=14,\n",
    "         va='center',ha='center');"
   ]
  },
  {
   "cell_type": "code",
   "execution_count": 29,
   "metadata": {},
   "outputs": [],
   "source": [
    "## Load in grid spec\n",
    "from matplotlib.gridspec import GridSpec"
   ]
  },
  {
   "cell_type": "code",
   "execution_count": 30,
   "metadata": {},
   "outputs": [
    {
     "data": {
      "image/png": "[encoded data removed]",
      "text/plain": [
       "<Figure size 576x864 with 6 Axes>"
      ]
     },
     "metadata": {
      "needs_background": "light"
     },
     "output_type": "display_data"
    }
   ],
   "source": [
    "## Call figure and set up grid spec\n",
    "fig = plt.figure(figsize=(8,12))\n",
    "gs = GridSpec(5,5,figure=fig)\n",
    "\n",
    "## set kb conversion\n",
    "kb = 1000\n",
    "\n",
    "## Add sub axis\n",
    "## for phenotypes\n",
    "phenoax = fig.add_subplot(gs[0,:])\n",
    "\n",
    "## manhattan plot\n",
    "qtlax = fig.add_subplot(gs[1,:])\n",
    "\n",
    "## QTL on chromosomes 3 and 11\n",
    "ch3ax = fig.add_subplot(gs[2,0:2])\n",
    "ch11ax = fig.add_subplot(gs[2,3:5])\n",
    "\n",
    "## Phenotype axis per chromosome\n",
    "ch3pax = fig.add_subplot(gs[3,0:2])\n",
    "ch11pax = fig.add_subplot(gs[3,3:5])\n",
    "\n",
    "## ---------------------------------------------------------------------------------------- ##\n",
    "\n",
    "## Set axis for phenotype data\n",
    "plt.sca(phenoax)\n",
    "\n",
    "## Remove spines\n",
    "[phenoax.spines[s].set_visible(False) for s in ['top','right']]\n",
    "\n",
    "## Set x position \n",
    "xpos = np.arange(to_plot.shape[0])\n",
    "\n",
    "## plot phenotype and CI\n",
    "plt.plot(xpos,to_plot.Rate,'r.',label='Mean');\n",
    "plt.vlines(xpos,to_plot.Lci,to_plot.Uci,\n",
    "           'blue',alpha=0.2,label='95% CI')\n",
    "\n",
    "## Add legend and y-labels\n",
    "plt.legend(loc=0)\n",
    "plt.ylabel('Mutation\\nRate x 10$^7$',fontsize=12);\n",
    "\n",
    "## Relable x-axis\n",
    "label_plot = []\n",
    "label_pos = []\n",
    "\n",
    "## Iterate thru samples\n",
    "for i,s in enumerate(to_plot.index.tolist()):\n",
    "    \n",
    "    ## Progeny genotypes\n",
    "    if s not in ['crg1','Bt65']:\n",
    "        label_plot.append('P%s'%s)\n",
    "        label_pos.append(i)\n",
    "    \n",
    "    ## H99 parnets\n",
    "    elif s == 'crg1':\n",
    "        label_plot.append(h99_label)\n",
    "        \n",
    "    ## Bt65 label\n",
    "    elif s == 'Bt65':\n",
    "        label_plot.append(bt_label)\n",
    "        \n",
    "## Set xticks and xlabel\n",
    "plt.xticks(xpos,label_plot,rotation=90)\n",
    "plt.xlabel('Strain Name',fontsize=12)\n",
    "\n",
    "## ----------------------------------------------------------------------------------------- ##\n",
    "\n",
    "## Set manhattan axis and remove axis\n",
    "plt.sca(qtlax)\n",
    "[qtlax.spines[s].set_visible(False) for s in ['top','right']];\n",
    "\n",
    "## Iterate thru chromosomes\n",
    "for i,c in clens.iterrows():\n",
    "    \n",
    "    ## slice datframes\n",
    "    cumsum = c['Cumsum']\n",
    "    temp = pvaldf[(pvaldf.Contig==c.Contig)]\n",
    "    \n",
    "    ## plot QTL\n",
    "    plt.plot(temp.Pos+cumsum,temp.Pval,\n",
    "             '.',alpha=0.5,\n",
    "             markersize=3, \n",
    "             color='k' if i in [3,11] else chrom_colors[i%len(chrom_colors)]);\n",
    "\n",
    "## Set ylabel, limit, and y-ticks\n",
    "plt.ylabel('$-\\log_{10}\\,(p-value)$',fontsize=12);\n",
    "plt.ylim(-0.1,5.5)\n",
    "plt.yticks(np.arange(6))\n",
    "\n",
    "## Set xticks and xlables\n",
    "plt.xticks(clens.Midpts.values,clens.index.values);\n",
    "plt.xlabel('Chromosome',fontsize=12);\n",
    "\n",
    "## Plot QTL threshold\n",
    "plt.hlines(thres_99,clens.Pos.tolist()[0],\n",
    "           posmax,linestyle=':',linewidth=1,color='k')\n",
    "\n",
    "## Add label to threshold\n",
    "plt.text(clens.Midpts.tolist()[0]*(2/3),thres_99,\n",
    "         s = r'$\\alpha$ = 0.01',\n",
    "         va='center',ha='center',fontsize=12)\n",
    "\n",
    "## ----------------------------------------------------------------------------------------- ##\n",
    "\n",
    "## Set chromosome QTL 3 axis and remove spines\n",
    "plt.sca(ch3ax)\n",
    "[ch3ax.spines[s].set_visible(False) for s in ['top','right']];\n",
    "\n",
    "## Gather temp chromosome dataframe sort by position\n",
    "temp = pvaldf[(pvaldf.Contig=='Chr_3')].copy()\n",
    "temp.sort_values('Pos',inplace=True)\n",
    "\n",
    "## plot QTL\n",
    "plt.plot(temp.Pos/kb,temp.Pval,'.',\n",
    "         color='k',\n",
    "         markersize=1,label='QTL');\n",
    "\n",
    "## plot CI\n",
    "plt.hlines(-0.5,ch3l/kb,ch3r/kb,color='lightgrey');\n",
    "plt.vlines(np.array([ch3l/kb,ch3r/kb]),-.9,0,\n",
    "           label='95% CI',color='lightgrey')\n",
    "\n",
    "## Set ytikcs, xlable, ylimit, and ylabels\n",
    "plt.yticks(np.arange(6));\n",
    "plt.xlabel('Chromosome 3 Coordinates (kb)',fontsize=12)\n",
    "plt.ylim(-1,5.5)\n",
    "plt.ylabel('$-\\log_{10}\\,(p-value)$',fontsize=12);\n",
    "\n",
    "## Add centromere\n",
    "plt.hlines(-1,*Centromeres.T[2].values/kb,\n",
    "           color='darkgrey',label='Centromere',linewidth=8)\n",
    "\n",
    "## Add legend\n",
    "lgnd = plt.legend(bbox_to_anchor=(.9,1.1))\n",
    "lgnd.legendHandles[0]._legmarker.set_markersize(10)\n",
    "lgnd.legendHandles[2].set_markersize(1)\n",
    "\n",
    "## ------------------------------------------------------------------------------------------- ##\n",
    "\n",
    "## Set chromosome QTL 11 axis and remove spines\n",
    "plt.sca(ch11ax)\n",
    "[ch11ax.spines[s].set_visible(False) for s in ['top','right']];\n",
    "\n",
    "## Slice dataframe sort by pos\n",
    "temp = pvaldf[(pvaldf.Contig=='Chr_11')].copy()\n",
    "temp.sort_values('Pos',inplace=True)\n",
    "\n",
    "## plot QTL\n",
    "plt.plot(temp.Pos/kb,temp.Pval,'.',\n",
    "         color='k',markersize=1);\n",
    "\n",
    "## Add CI\n",
    "plt.hlines(-0.5,ch11l/kb,ch11r/kb,color='lightgrey');\n",
    "plt.vlines(np.array([ch11l/kb,ch11r/kb]),-.9,0,color='lightgrey')\n",
    "\n",
    "## Set yticks, xlabel, ylim, ylabel\n",
    "plt.yticks(np.arange(6));\n",
    "plt.xlabel('Chromosome 11 Coordinates (kb)',fontsize=12);\n",
    "plt.ylim(-1,5.5)\n",
    "plt.ylabel('$-\\log_{10}\\,(p-value)$',fontsize=12);\n",
    "\n",
    "## plot centromere\n",
    "plt.hlines(-1,*Centromeres.T[10].values/kb,\n",
    "           color='darkgrey',label='Centromere',linewidth=8)\n",
    "\n",
    "## ------------------------------------------------------------------------------------------ ##\n",
    "\n",
    "## set axis for chromosome 3 phenotype data and \n",
    "## remove spines\n",
    "plt.sca(ch3pax)\n",
    "[ch3pax.spines[s].set_visible(False) for s in ['top','right']];\n",
    "\n",
    "## Plot swamplot for chromosome 3 genotype x phenotype\n",
    "sns.swarmplot(x='CH3',y='Rate',data=to_use_data,palette='gray');\n",
    "\n",
    "## Set xlabel and xticks\n",
    "plt.xlabel('Chromosome 3 QTL Allele',fontsize=12);\n",
    "plt.xticks([0,1],[h99_label,bt_label],fontsize=12);\n",
    "\n",
    "## Set ylimits, ylabel, and yticks\n",
    "plt.ylim(-0.5,5.5)\n",
    "plt.ylabel('Mutation\\nRate x 10$^7$',fontsize=12)\n",
    "plt.yticks(np.arange(6))\n",
    "\n",
    "#[ch3pax.spines[s].set_visible(False) for s in ['top','right']]\n",
    "## annotate R2\n",
    "plt.text(0,4.5,'$R^2 = %s$'%ch3_rs,fontsize=12,va='center',ha='center')\n",
    "\n",
    "## ------------------------------------------------------------------------------------------ ##\n",
    "\n",
    "## Set axis for chromosome 11 swarm plot\n",
    "## and remove spines\n",
    "plt.sca(ch11pax)\n",
    "[ch11pax.spines[s].set_visible(False) \n",
    " for s in ['top','right']];\n",
    "\n",
    "## annotate plot\n",
    "plt.text(0,4.5,'$R^2 = %s$'%ch11_rs,\n",
    "         fontsize=12,va='center',ha='center')\n",
    "\n",
    "## plot swarm\n",
    "sns.swarmplot(x='CH11',y='Rate',\n",
    "              data=to_use_data,palette='gray')\n",
    "\n",
    "## Set ylim, yticks, and ylabel\n",
    "plt.ylim(-0.5,5.5)\n",
    "plt.yticks(np.arange(6))\n",
    "plt.ylabel('Mutation\\nRate x 10$^7$',fontsize=12)\n",
    "\n",
    "## Set x-label and xticks\n",
    "plt.xlabel('Chromosome 11 QTL Allele',fontsize=12);\n",
    "plt.xticks([0,1],[h99_label,bt_label],fontsize=12);\n",
    "\n",
    "## ----------------------------------------------------- ##\n",
    "\n",
    "## Adjust suplots\n",
    "plt.subplots_adjust(hspace=0.7,wspace=0.5);\n",
    "\n",
    "## Add figure section lables\n",
    "fig.text(0,0.88,'A',fontweight='bold',fontsize=14)\n",
    "fig.text(0,0.72,'B',fontweight='bold',fontsize=14)\n",
    "fig.text(0,0.56,'C',fontweight='bold',fontsize=14)\n",
    "fig.text(0,0.39,'D',fontweight='bold',fontsize=14)\n",
    "\n",
    "## Set save path\n",
    "savepath = '../FIGURES/Figure_4_Hypermutator_Phenotypes_and_QTL.pdf'\n",
    "\n",
    "## Save figure\n",
    "plt.savefig(savepath,dpi=300,bbox_inches='tight');"
   ]
  },
  {
   "cell_type": "markdown",
   "metadata": {},
   "source": [
    "108 and 85 genes (respectively) and I was unable to analyze 26 and 8 of them (respectively)"
   ]
  },
  {
   "cell_type": "code",
   "execution_count": 32,
   "metadata": {},
   "outputs": [],
   "source": [
    "## SAve pvalue dataframe\n",
    "pvaldf.to_csv('../DATA/Bt65xH99_SNP_QTL.csv.gz')"
   ]
  }
 ],
 "metadata": {
  "kernelspec": {
   "display_name": "Python 3",
   "language": "python",
   "name": "python3"
  },
  "language_info": {
   "codemirror_mode": {
    "name": "ipython",
    "version": 3
   },
   "file_extension": ".py",
   "mimetype": "text/x-python",
   "name": "python",
   "nbconvert_exporter": "python",
   "pygments_lexer": "ipython3",
   "version": "3.7.3"
  }
 },
 "nbformat": 4,
 "nbformat_minor": 4
}
