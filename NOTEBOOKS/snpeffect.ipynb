{
 "cells": [
  {
   "cell_type": "code",
   "execution_count": 1,
   "metadata": {},
   "outputs": [],
   "source": [
    "import numpy as np, pandas as pd, sys\n",
    "sys.path.insert(0, '/home/croth/QTL-functions/SCRIPTS/')\n",
    "import snpy"
   ]
  },
  {
   "cell_type": "code",
   "execution_count": 2,
   "metadata": {},
   "outputs": [],
   "source": [
    "## Set paths \n",
    "## to genotype dataframes\n",
    "gt_path = '../GENOTYPE/Bt65xH99_F1_progeny-SNPS.csv.gz'\n",
    "#gffpath = '/home/croth/Hypermutator/FungiDB-43_CneoformansH99.gff'\n",
    "#refpath = '/home/croth/Desktop/SSK1/FungiDB-43_CneoformansH99_Genome.fasta'\n",
    "\n",
    "refpath = '/home/croth/Hypermutator_mac/DATA/FungiDB-46_CneoformansH99_Genome.fasta'\n",
    "gffpath = '/home/croth/QTL-functions/DATA/REFERENCE/FungiDB-46_CneoformansH99.gff.gz'\n",
    "cmpath = '../GENOTYPE/H99_chrommap.csv.gz'"
   ]
  },
  {
   "cell_type": "code",
   "execution_count": 3,
   "metadata": {},
   "outputs": [
    {
     "data": {
      "text/html": [
       "<div>\n",
       "<style scoped>\n",
       "    .dataframe tbody tr th:only-of-type {\n",
       "        vertical-align: middle;\n",
       "    }\n",
       "\n",
       "    .dataframe tbody tr th {\n",
       "        vertical-align: top;\n",
       "    }\n",
       "\n",
       "    .dataframe thead th {\n",
       "        text-align: right;\n",
       "    }\n",
       "</style>\n",
       "<table border=\"1\" class=\"dataframe\">\n",
       "  <thead>\n",
       "    <tr style=\"text-align: right;\">\n",
       "      <th></th>\n",
       "      <th>Seqid</th>\n",
       "      <th>Length</th>\n",
       "      <th>Contig</th>\n",
       "      <th>Chrom</th>\n",
       "      <th>Cumsum</th>\n",
       "      <th>Midpts</th>\n",
       "      <th>Nsnps</th>\n",
       "    </tr>\n",
       "  </thead>\n",
       "  <tbody>\n",
       "    <tr>\n",
       "      <th>9</th>\n",
       "      <td>CP003829.1</td>\n",
       "      <td>1059964</td>\n",
       "      <td>Chr_10</td>\n",
       "      <td>10</td>\n",
       "      <td>13795562</td>\n",
       "      <td>14325544.0</td>\n",
       "      <td>10982</td>\n",
       "    </tr>\n",
       "    <tr>\n",
       "      <th>10</th>\n",
       "      <td>CP003830.1</td>\n",
       "      <td>1561994</td>\n",
       "      <td>Chr_11</td>\n",
       "      <td>11</td>\n",
       "      <td>14855526</td>\n",
       "      <td>15636523.0</td>\n",
       "      <td>18069</td>\n",
       "    </tr>\n",
       "    <tr>\n",
       "      <th>11</th>\n",
       "      <td>CP003831.1</td>\n",
       "      <td>774062</td>\n",
       "      <td>Chr_12</td>\n",
       "      <td>12</td>\n",
       "      <td>16417520</td>\n",
       "      <td>16804551.0</td>\n",
       "      <td>9015</td>\n",
       "    </tr>\n",
       "    <tr>\n",
       "      <th>12</th>\n",
       "      <td>CP003832.1</td>\n",
       "      <td>756744</td>\n",
       "      <td>Chr_13</td>\n",
       "      <td>13</td>\n",
       "      <td>17191582</td>\n",
       "      <td>17569954.0</td>\n",
       "      <td>8509</td>\n",
       "    </tr>\n",
       "    <tr>\n",
       "      <th>13</th>\n",
       "      <td>CP003833.2</td>\n",
       "      <td>942867</td>\n",
       "      <td>Chr_14</td>\n",
       "      <td>14</td>\n",
       "      <td>17948326</td>\n",
       "      <td>18419759.5</td>\n",
       "      <td>11172</td>\n",
       "    </tr>\n",
       "  </tbody>\n",
       "</table>\n",
       "</div>"
      ],
      "text/plain": [
       "         Seqid   Length  Contig Chrom    Cumsum      Midpts  Nsnps\n",
       "9   CP003829.1  1059964  Chr_10    10  13795562  14325544.0  10982\n",
       "10  CP003830.1  1561994  Chr_11    11  14855526  15636523.0  18069\n",
       "11  CP003831.1   774062  Chr_12    12  16417520  16804551.0   9015\n",
       "12  CP003832.1   756744  Chr_13    13  17191582  17569954.0   8509\n",
       "13  CP003833.2   942867  Chr_14    14  17948326  18419759.5  11172"
      ]
     },
     "execution_count": 3,
     "metadata": {},
     "output_type": "execute_result"
    }
   ],
   "source": [
    "## Load in chromosome lengths\n",
    "clens = pd.read_csv(cmpath)\n",
    "clens = clens[:-1]\n",
    "clens.tail()"
   ]
  },
  {
   "cell_type": "code",
   "execution_count": 4,
   "metadata": {},
   "outputs": [
    {
     "data": {
      "text/html": [
       "<div>\n",
       "<style scoped>\n",
       "    .dataframe tbody tr th:only-of-type {\n",
       "        vertical-align: middle;\n",
       "    }\n",
       "\n",
       "    .dataframe tbody tr th {\n",
       "        vertical-align: top;\n",
       "    }\n",
       "\n",
       "    .dataframe thead th {\n",
       "        text-align: right;\n",
       "    }\n",
       "</style>\n",
       "<table border=\"1\" class=\"dataframe\">\n",
       "  <thead>\n",
       "    <tr style=\"text-align: right;\">\n",
       "      <th></th>\n",
       "      <th>41</th>\n",
       "      <th>17</th>\n",
       "      <th>36</th>\n",
       "      <th>14</th>\n",
       "      <th>12</th>\n",
       "      <th>29</th>\n",
       "      <th>34</th>\n",
       "      <th>26</th>\n",
       "      <th>13</th>\n",
       "      <th>18</th>\n",
       "      <th>...</th>\n",
       "      <th>Altlen</th>\n",
       "      <th>Qual</th>\n",
       "      <th>NALT</th>\n",
       "      <th>AF</th>\n",
       "      <th>Seqid</th>\n",
       "      <th>Length</th>\n",
       "      <th>Chrom</th>\n",
       "      <th>Cumsum</th>\n",
       "      <th>Midpts</th>\n",
       "      <th>Nsnps</th>\n",
       "    </tr>\n",
       "  </thead>\n",
       "  <tbody>\n",
       "    <tr>\n",
       "      <th>0</th>\n",
       "      <td>1.0</td>\n",
       "      <td>1.0</td>\n",
       "      <td>0.0</td>\n",
       "      <td>1.0</td>\n",
       "      <td>1.0</td>\n",
       "      <td>0.0</td>\n",
       "      <td>0.0</td>\n",
       "      <td>0.0</td>\n",
       "      <td>1.0</td>\n",
       "      <td>0.0</td>\n",
       "      <td>...</td>\n",
       "      <td>1</td>\n",
       "      <td>4.526492</td>\n",
       "      <td>1</td>\n",
       "      <td>0.464286</td>\n",
       "      <td>CP003820.1</td>\n",
       "      <td>2291499</td>\n",
       "      <td>1</td>\n",
       "      <td>0</td>\n",
       "      <td>1145749.5</td>\n",
       "      <td>25192</td>\n",
       "    </tr>\n",
       "    <tr>\n",
       "      <th>1</th>\n",
       "      <td>1.0</td>\n",
       "      <td>1.0</td>\n",
       "      <td>0.0</td>\n",
       "      <td>1.0</td>\n",
       "      <td>1.0</td>\n",
       "      <td>0.0</td>\n",
       "      <td>0.0</td>\n",
       "      <td>0.0</td>\n",
       "      <td>0.0</td>\n",
       "      <td>0.0</td>\n",
       "      <td>...</td>\n",
       "      <td>1</td>\n",
       "      <td>4.516699</td>\n",
       "      <td>1</td>\n",
       "      <td>0.428571</td>\n",
       "      <td>CP003820.1</td>\n",
       "      <td>2291499</td>\n",
       "      <td>1</td>\n",
       "      <td>0</td>\n",
       "      <td>1145749.5</td>\n",
       "      <td>25192</td>\n",
       "    </tr>\n",
       "    <tr>\n",
       "      <th>2</th>\n",
       "      <td>0.0</td>\n",
       "      <td>1.0</td>\n",
       "      <td>0.0</td>\n",
       "      <td>1.0</td>\n",
       "      <td>1.0</td>\n",
       "      <td>1.0</td>\n",
       "      <td>0.0</td>\n",
       "      <td>1.0</td>\n",
       "      <td>1.0</td>\n",
       "      <td>1.0</td>\n",
       "      <td>...</td>\n",
       "      <td>1</td>\n",
       "      <td>4.731814</td>\n",
       "      <td>1</td>\n",
       "      <td>0.500000</td>\n",
       "      <td>CP003820.1</td>\n",
       "      <td>2291499</td>\n",
       "      <td>1</td>\n",
       "      <td>0</td>\n",
       "      <td>1145749.5</td>\n",
       "      <td>25192</td>\n",
       "    </tr>\n",
       "    <tr>\n",
       "      <th>3</th>\n",
       "      <td>0.0</td>\n",
       "      <td>1.0</td>\n",
       "      <td>0.0</td>\n",
       "      <td>1.0</td>\n",
       "      <td>1.0</td>\n",
       "      <td>1.0</td>\n",
       "      <td>0.0</td>\n",
       "      <td>1.0</td>\n",
       "      <td>1.0</td>\n",
       "      <td>1.0</td>\n",
       "      <td>...</td>\n",
       "      <td>1</td>\n",
       "      <td>4.592010</td>\n",
       "      <td>1</td>\n",
       "      <td>0.428571</td>\n",
       "      <td>CP003820.1</td>\n",
       "      <td>2291499</td>\n",
       "      <td>1</td>\n",
       "      <td>0</td>\n",
       "      <td>1145749.5</td>\n",
       "      <td>25192</td>\n",
       "    </tr>\n",
       "    <tr>\n",
       "      <th>4</th>\n",
       "      <td>0.0</td>\n",
       "      <td>0.0</td>\n",
       "      <td>0.0</td>\n",
       "      <td>1.0</td>\n",
       "      <td>0.0</td>\n",
       "      <td>1.0</td>\n",
       "      <td>0.0</td>\n",
       "      <td>0.0</td>\n",
       "      <td>1.0</td>\n",
       "      <td>0.0</td>\n",
       "      <td>...</td>\n",
       "      <td>1</td>\n",
       "      <td>4.520617</td>\n",
       "      <td>1</td>\n",
       "      <td>0.214286</td>\n",
       "      <td>CP003820.1</td>\n",
       "      <td>2291499</td>\n",
       "      <td>1</td>\n",
       "      <td>0</td>\n",
       "      <td>1145749.5</td>\n",
       "      <td>25192</td>\n",
       "    </tr>\n",
       "  </tbody>\n",
       "</table>\n",
       "<p>5 rows × 44 columns</p>\n",
       "</div>"
      ],
      "text/plain": [
       "    41   17   36   14   12   29   34   26   13   18  ...  Altlen      Qual  \\\n",
       "0  1.0  1.0  0.0  1.0  1.0  0.0  0.0  0.0  1.0  0.0  ...       1  4.526492   \n",
       "1  1.0  1.0  0.0  1.0  1.0  0.0  0.0  0.0  0.0  0.0  ...       1  4.516699   \n",
       "2  0.0  1.0  0.0  1.0  1.0  1.0  0.0  1.0  1.0  1.0  ...       1  4.731814   \n",
       "3  0.0  1.0  0.0  1.0  1.0  1.0  0.0  1.0  1.0  1.0  ...       1  4.592010   \n",
       "4  0.0  0.0  0.0  1.0  0.0  1.0  0.0  0.0  1.0  0.0  ...       1  4.520617   \n",
       "\n",
       "   NALT        AF       Seqid   Length  Chrom  Cumsum     Midpts  Nsnps  \n",
       "0     1  0.464286  CP003820.1  2291499      1       0  1145749.5  25192  \n",
       "1     1  0.428571  CP003820.1  2291499      1       0  1145749.5  25192  \n",
       "2     1  0.500000  CP003820.1  2291499      1       0  1145749.5  25192  \n",
       "3     1  0.428571  CP003820.1  2291499      1       0  1145749.5  25192  \n",
       "4     1  0.214286  CP003820.1  2291499      1       0  1145749.5  25192  \n",
       "\n",
       "[5 rows x 44 columns]"
      ]
     },
     "execution_count": 4,
     "metadata": {},
     "output_type": "execute_result"
    }
   ],
   "source": [
    "## Load in genotype data\n",
    "## Genotypes per site\n",
    "SNP = pd.read_csv(gt_path,index_col=0)\n",
    "\n",
    "## Merge with clens\n",
    "SNP = SNP.merge(clens)\n",
    "\n",
    "SNP['Chrom'] = SNP.Chrom.apply(int)\n",
    "\n",
    "## View head\n",
    "SNP.head()"
   ]
  },
  {
   "cell_type": "code",
   "execution_count": 5,
   "metadata": {},
   "outputs": [
    {
     "data": {
      "text/plain": [
       "((15618, 44), (15514, 44))"
      ]
     },
     "execution_count": 5,
     "metadata": {},
     "output_type": "execute_result"
    }
   ],
   "source": [
    "SNP3 = SNP[(SNP.Chrom==3) & (SNP.Altlen<3)]\n",
    "SNP11 = SNP[(SNP.Chrom==11) & (SNP.Altlen<3)]\n",
    "SNP3.shape,SNP11.shape"
   ]
  },
  {
   "cell_type": "code",
   "execution_count": 6,
   "metadata": {},
   "outputs": [],
   "source": [
    "## Set chromosome 3 CI bounds +/- 1kb\n",
    "qtl3left, qtl3righ = 881808, 1118629\n",
    "\n",
    "qtl11left,qtl11righ = 991049, 1189364"
   ]
  },
  {
   "cell_type": "code",
   "execution_count": 7,
   "metadata": {},
   "outputs": [],
   "source": [
    "## Bring in gff file\n",
    "gff = snpy.loadgff(gffpath)"
   ]
  },
  {
   "cell_type": "code",
   "execution_count": 8,
   "metadata": {},
   "outputs": [
    {
     "data": {
      "text/plain": [
       "('CP003822.1', 'CP003830.1')"
      ]
     },
     "execution_count": 8,
     "metadata": {},
     "output_type": "execute_result"
    }
   ],
   "source": [
    "## Gather chromnames\n",
    "chr3name = SNP3.Seqid.min()\n",
    "\n",
    "chr11name = SNP11.Seqid.min()\n",
    "\n",
    "chr3name,chr11name"
   ]
  },
  {
   "cell_type": "code",
   "execution_count": 9,
   "metadata": {},
   "outputs": [
    {
     "data": {
      "text/plain": [
       "108"
      ]
     },
     "execution_count": 9,
     "metadata": {},
     "output_type": "execute_result"
    }
   ],
   "source": [
    "chr3_genes = list(gff[(gff.Type=='gene') &\n",
    "                 (gff.End>=qtl3left) & \n",
    "                  (gff.Start<=qtl3righ) & \n",
    "                 (gff.Seqid==chr3name)\n",
    "                ].Gene.unique())\n",
    "\n",
    "len(chr3_genes)"
   ]
  },
  {
   "cell_type": "code",
   "execution_count": 10,
   "metadata": {},
   "outputs": [
    {
     "data": {
      "text/plain": [
       "85"
      ]
     },
     "execution_count": 10,
     "metadata": {},
     "output_type": "execute_result"
    }
   ],
   "source": [
    "chr11_genes = list(gff[(gff.Type=='gene') &\n",
    "                 (gff.End>=qtl11left) & \n",
    "                  (gff.Start<=qtl11righ) & \n",
    "                 (gff.Seqid==chr11name)\n",
    "                ].Gene.unique())\n",
    "\n",
    "len(chr11_genes)"
   ]
  },
  {
   "cell_type": "code",
   "execution_count": 11,
   "metadata": {},
   "outputs": [],
   "source": [
    "gff3 = gff[(gff.Gene.isin(chr3_genes))]\n",
    "gff11 = gff[(gff.Gene.isin(chr11_genes))]"
   ]
  },
  {
   "cell_type": "code",
   "execution_count": 12,
   "metadata": {},
   "outputs": [],
   "source": [
    "gff3genes = gff3[(gff3.Type=='gene')].copy()\n",
    "gff11genes = gff11[(gff11.Type=='gene')].copy()"
   ]
  },
  {
   "cell_type": "code",
   "execution_count": 13,
   "metadata": {},
   "outputs": [],
   "source": [
    "gff3genes['Description'] = [''.join(g.split('description=')[-1].split('%2C')) \n",
    "                           for g in gff3genes.Attribute.tolist()]\n",
    "\n",
    "gff11genes['Description'] = [''.join(g.split('description=')[-1].split('%2C')) \n",
    "                           for g in gff11genes.Attribute.tolist()]"
   ]
  },
  {
   "cell_type": "code",
   "execution_count": 14,
   "metadata": {},
   "outputs": [],
   "source": [
    "respath3 = snpy.snpeffect('19',SNP3,'../GENOTYPE/GENES/P19/',gff3,refpath,verbos=False)"
   ]
  },
  {
   "cell_type": "code",
   "execution_count": 15,
   "metadata": {},
   "outputs": [],
   "source": [
    "respath11 = snpy.snpeffect('19',SNP11,'../GENOTYPE/GENES/P19/',gff11,refpath,verbos=False)"
   ]
  },
  {
   "cell_type": "code",
   "execution_count": 16,
   "metadata": {},
   "outputs": [],
   "source": [
    "import glob\n",
    "import importlib\n",
    "importlib.reload(snpy)\n",
    "snpspath = glob.glob('../GENOTYPE/GENES/P19/*.csv.gz')\n",
    "snpres = snpy.snpresults(snpspath)"
   ]
  },
  {
   "cell_type": "code",
   "execution_count": 17,
   "metadata": {},
   "outputs": [
    {
     "data": {
      "text/plain": [
       "(174, 14)"
      ]
     },
     "execution_count": 17,
     "metadata": {},
     "output_type": "execute_result"
    }
   ],
   "source": [
    "snpres.shape"
   ]
  },
  {
   "cell_type": "code",
   "execution_count": 18,
   "metadata": {},
   "outputs": [],
   "source": [
    "snpres = snpres.merge(pd.concat([gff3genes,gff11genes])\n",
    "            [['Gene','Strand','Start','End','Seqid','Description']])\n",
    "\n",
    "snpres['Lengthdif'] = np.abs(snpres.Alt - snpres.Ref)/snpres.Ref"
   ]
  },
  {
   "cell_type": "code",
   "execution_count": 19,
   "metadata": {},
   "outputs": [
    {
     "data": {
      "text/plain": [
       "(108, 12)"
      ]
     },
     "execution_count": 19,
     "metadata": {},
     "output_type": "execute_result"
    }
   ],
   "source": [
    "gff3genes.shape"
   ]
  },
  {
   "cell_type": "code",
   "execution_count": 20,
   "metadata": {},
   "outputs": [
    {
     "data": {
      "text/plain": [
       "(85, 12)"
      ]
     },
     "execution_count": 20,
     "metadata": {},
     "output_type": "execute_result"
    }
   ],
   "source": [
    "gff11genes.shape"
   ]
  },
  {
   "cell_type": "code",
   "execution_count": 21,
   "metadata": {},
   "outputs": [
    {
     "data": {
      "text/plain": [
       "(174, 20)"
      ]
     },
     "execution_count": 21,
     "metadata": {},
     "output_type": "execute_result"
    }
   ],
   "source": [
    "snpres.shape"
   ]
  },
  {
   "cell_type": "code",
   "execution_count": 22,
   "metadata": {},
   "outputs": [],
   "source": [
    "snpres.to_csv('../GENOTYPE/GENES/SNP_results.csv',index=False)"
   ]
  },
  {
   "cell_type": "code",
   "execution_count": 23,
   "metadata": {},
   "outputs": [
    {
     "data": {
      "text/plain": [
       "array(['CP003822.1', 'CP003830.1'], dtype=object)"
      ]
     },
     "execution_count": 23,
     "metadata": {},
     "output_type": "execute_result"
    }
   ],
   "source": [
    "snpres.Seqid.unique()"
   ]
  },
  {
   "cell_type": "code",
   "execution_count": 24,
   "metadata": {},
   "outputs": [
    {
     "data": {
      "text/html": [
       "<div>\n",
       "<style scoped>\n",
       "    .dataframe tbody tr th:only-of-type {\n",
       "        vertical-align: middle;\n",
       "    }\n",
       "\n",
       "    .dataframe tbody tr th {\n",
       "        vertical-align: top;\n",
       "    }\n",
       "\n",
       "    .dataframe thead th {\n",
       "        text-align: right;\n",
       "    }\n",
       "</style>\n",
       "<table border=\"1\" class=\"dataframe\">\n",
       "  <thead>\n",
       "    <tr style=\"text-align: right;\">\n",
       "      <th></th>\n",
       "      <th>Strain</th>\n",
       "      <th>Gene</th>\n",
       "      <th>Parent</th>\n",
       "      <th>Expected</th>\n",
       "      <th>Ref</th>\n",
       "      <th>Alt</th>\n",
       "      <th>Refstop</th>\n",
       "      <th>Altstop</th>\n",
       "      <th>Nonsyn</th>\n",
       "      <th>Nvars</th>\n",
       "      <th>Utr5</th>\n",
       "      <th>Utr3</th>\n",
       "      <th>Exon</th>\n",
       "      <th>Intron</th>\n",
       "      <th>Strand</th>\n",
       "      <th>Start</th>\n",
       "      <th>End</th>\n",
       "      <th>Seqid</th>\n",
       "      <th>Description</th>\n",
       "      <th>Lengthdif</th>\n",
       "    </tr>\n",
       "  </thead>\n",
       "  <tbody>\n",
       "    <tr>\n",
       "      <th>46</th>\n",
       "      <td>19</td>\n",
       "      <td>CNAG_02700</td>\n",
       "      <td>CNAG_02700-t26_1</td>\n",
       "      <td>1561.0</td>\n",
       "      <td>1561</td>\n",
       "      <td>95</td>\n",
       "      <td>1</td>\n",
       "      <td>2</td>\n",
       "      <td>20</td>\n",
       "      <td>66</td>\n",
       "      <td>3</td>\n",
       "      <td>3</td>\n",
       "      <td>57</td>\n",
       "      <td>3</td>\n",
       "      <td>-1</td>\n",
       "      <td>970996</td>\n",
       "      <td>976412</td>\n",
       "      <td>CP003822.1</td>\n",
       "      <td>C2H2 type zinc finger transcription factor</td>\n",
       "      <td>0.939142</td>\n",
       "    </tr>\n",
       "    <tr>\n",
       "      <th>47</th>\n",
       "      <td>19</td>\n",
       "      <td>CNAG_02700</td>\n",
       "      <td>CNAG_02700-t26_2</td>\n",
       "      <td>1562.0</td>\n",
       "      <td>1562</td>\n",
       "      <td>95</td>\n",
       "      <td>1</td>\n",
       "      <td>2</td>\n",
       "      <td>20</td>\n",
       "      <td>66</td>\n",
       "      <td>3</td>\n",
       "      <td>3</td>\n",
       "      <td>57</td>\n",
       "      <td>3</td>\n",
       "      <td>-1</td>\n",
       "      <td>970996</td>\n",
       "      <td>976412</td>\n",
       "      <td>CP003822.1</td>\n",
       "      <td>C2H2 type zinc finger transcription factor</td>\n",
       "      <td>0.939181</td>\n",
       "    </tr>\n",
       "    <tr>\n",
       "      <th>55</th>\n",
       "      <td>19</td>\n",
       "      <td>CNAG_01883</td>\n",
       "      <td>CNAG_01883-t26_1</td>\n",
       "      <td>322.0</td>\n",
       "      <td>322</td>\n",
       "      <td>144</td>\n",
       "      <td>1</td>\n",
       "      <td>2</td>\n",
       "      <td>14</td>\n",
       "      <td>43</td>\n",
       "      <td>0</td>\n",
       "      <td>0</td>\n",
       "      <td>20</td>\n",
       "      <td>23</td>\n",
       "      <td>-1</td>\n",
       "      <td>1171247</td>\n",
       "      <td>1173092</td>\n",
       "      <td>CP003830.1</td>\n",
       "      <td>hypothetical protein</td>\n",
       "      <td>0.552795</td>\n",
       "    </tr>\n",
       "    <tr>\n",
       "      <th>70</th>\n",
       "      <td>19</td>\n",
       "      <td>CNAG_07611</td>\n",
       "      <td>CNAG_07611-t26_1</td>\n",
       "      <td>67.0</td>\n",
       "      <td>67</td>\n",
       "      <td>40</td>\n",
       "      <td>1</td>\n",
       "      <td>2</td>\n",
       "      <td>6</td>\n",
       "      <td>6</td>\n",
       "      <td>0</td>\n",
       "      <td>0</td>\n",
       "      <td>3</td>\n",
       "      <td>3</td>\n",
       "      <td>-1</td>\n",
       "      <td>1170371</td>\n",
       "      <td>1170866</td>\n",
       "      <td>CP003830.1</td>\n",
       "      <td>hypothetical protein</td>\n",
       "      <td>0.402985</td>\n",
       "    </tr>\n",
       "    <tr>\n",
       "      <th>76</th>\n",
       "      <td>19</td>\n",
       "      <td>CNAG_07610</td>\n",
       "      <td>CNAG_07610-t26_1</td>\n",
       "      <td>108.0</td>\n",
       "      <td>108</td>\n",
       "      <td>109</td>\n",
       "      <td>1</td>\n",
       "      <td>0</td>\n",
       "      <td>4</td>\n",
       "      <td>8</td>\n",
       "      <td>0</td>\n",
       "      <td>3</td>\n",
       "      <td>3</td>\n",
       "      <td>2</td>\n",
       "      <td>1</td>\n",
       "      <td>1119077</td>\n",
       "      <td>1119717</td>\n",
       "      <td>CP003830.1</td>\n",
       "      <td>hypothetical protein</td>\n",
       "      <td>0.009259</td>\n",
       "    </tr>\n",
       "    <tr>\n",
       "      <th>108</th>\n",
       "      <td>19</td>\n",
       "      <td>CNAG_07969</td>\n",
       "      <td>CNAG_07969-t26_1</td>\n",
       "      <td>309.0</td>\n",
       "      <td>309</td>\n",
       "      <td>34</td>\n",
       "      <td>1</td>\n",
       "      <td>8</td>\n",
       "      <td>67</td>\n",
       "      <td>25</td>\n",
       "      <td>0</td>\n",
       "      <td>0</td>\n",
       "      <td>22</td>\n",
       "      <td>3</td>\n",
       "      <td>1</td>\n",
       "      <td>930460</td>\n",
       "      <td>931520</td>\n",
       "      <td>CP003822.1</td>\n",
       "      <td>hypothetical protein</td>\n",
       "      <td>0.889968</td>\n",
       "    </tr>\n",
       "    <tr>\n",
       "      <th>124</th>\n",
       "      <td>19</td>\n",
       "      <td>CNAG_07528</td>\n",
       "      <td>CNAG_07528-t26_1</td>\n",
       "      <td>463.0</td>\n",
       "      <td>463</td>\n",
       "      <td>404</td>\n",
       "      <td>1</td>\n",
       "      <td>2</td>\n",
       "      <td>69</td>\n",
       "      <td>27</td>\n",
       "      <td>0</td>\n",
       "      <td>1</td>\n",
       "      <td>24</td>\n",
       "      <td>2</td>\n",
       "      <td>-1</td>\n",
       "      <td>1070491</td>\n",
       "      <td>1072131</td>\n",
       "      <td>CP003822.1</td>\n",
       "      <td>hypothetical protein</td>\n",
       "      <td>0.127430</td>\n",
       "    </tr>\n",
       "    <tr>\n",
       "      <th>125</th>\n",
       "      <td>19</td>\n",
       "      <td>CNAG_01836</td>\n",
       "      <td>CNAG_01836-t26_1</td>\n",
       "      <td>521.0</td>\n",
       "      <td>521</td>\n",
       "      <td>503</td>\n",
       "      <td>1</td>\n",
       "      <td>2</td>\n",
       "      <td>20</td>\n",
       "      <td>33</td>\n",
       "      <td>0</td>\n",
       "      <td>0</td>\n",
       "      <td>25</td>\n",
       "      <td>8</td>\n",
       "      <td>1</td>\n",
       "      <td>1042367</td>\n",
       "      <td>1044262</td>\n",
       "      <td>CP003830.1</td>\n",
       "      <td>long-chain acyl-CoA synthetase</td>\n",
       "      <td>0.034549</td>\n",
       "    </tr>\n",
       "  </tbody>\n",
       "</table>\n",
       "</div>"
      ],
      "text/plain": [
       "     Strain        Gene            Parent  Expected   Ref  Alt  Refstop  \\\n",
       "46       19  CNAG_02700  CNAG_02700-t26_1    1561.0  1561   95        1   \n",
       "47       19  CNAG_02700  CNAG_02700-t26_2    1562.0  1562   95        1   \n",
       "55       19  CNAG_01883  CNAG_01883-t26_1     322.0   322  144        1   \n",
       "70       19  CNAG_07611  CNAG_07611-t26_1      67.0    67   40        1   \n",
       "76       19  CNAG_07610  CNAG_07610-t26_1     108.0   108  109        1   \n",
       "108      19  CNAG_07969  CNAG_07969-t26_1     309.0   309   34        1   \n",
       "124      19  CNAG_07528  CNAG_07528-t26_1     463.0   463  404        1   \n",
       "125      19  CNAG_01836  CNAG_01836-t26_1     521.0   521  503        1   \n",
       "\n",
       "     Altstop  Nonsyn  Nvars  Utr5  Utr3  Exon  Intron  Strand    Start  \\\n",
       "46         2      20     66     3     3    57       3      -1   970996   \n",
       "47         2      20     66     3     3    57       3      -1   970996   \n",
       "55         2      14     43     0     0    20      23      -1  1171247   \n",
       "70         2       6      6     0     0     3       3      -1  1170371   \n",
       "76         0       4      8     0     3     3       2       1  1119077   \n",
       "108        8      67     25     0     0    22       3       1   930460   \n",
       "124        2      69     27     0     1    24       2      -1  1070491   \n",
       "125        2      20     33     0     0    25       8       1  1042367   \n",
       "\n",
       "         End       Seqid                                 Description  \\\n",
       "46    976412  CP003822.1  C2H2 type zinc finger transcription factor   \n",
       "47    976412  CP003822.1  C2H2 type zinc finger transcription factor   \n",
       "55   1173092  CP003830.1                        hypothetical protein   \n",
       "70   1170866  CP003830.1                        hypothetical protein   \n",
       "76   1119717  CP003830.1                        hypothetical protein   \n",
       "108   931520  CP003822.1                        hypothetical protein   \n",
       "124  1072131  CP003822.1                        hypothetical protein   \n",
       "125  1044262  CP003830.1              long-chain acyl-CoA synthetase   \n",
       "\n",
       "     Lengthdif  \n",
       "46    0.939142  \n",
       "47    0.939181  \n",
       "55    0.552795  \n",
       "70    0.402985  \n",
       "76    0.009259  \n",
       "108   0.889968  \n",
       "124   0.127430  \n",
       "125   0.034549  "
      ]
     },
     "execution_count": 24,
     "metadata": {},
     "output_type": "execute_result"
    }
   ],
   "source": [
    "snpres[(snpres.Altstop!=1)]"
   ]
  },
  {
   "cell_type": "code",
   "execution_count": 23,
   "metadata": {},
   "outputs": [
    {
     "data": {
      "text/plain": [
       "(7,)"
      ]
     },
     "execution_count": 23,
     "metadata": {},
     "output_type": "execute_result"
    }
   ],
   "source": [
    "snpres[(snpres.Altstop!=1)].Gene.unique().shape"
   ]
  },
  {
   "cell_type": "code",
   "execution_count": 51,
   "metadata": {},
   "outputs": [],
   "source": [
    "all_genes = gff3genes.Gene.tolist() + gff11genes.Gene.tolist()"
   ]
  },
  {
   "cell_type": "code",
   "execution_count": 52,
   "metadata": {},
   "outputs": [
    {
     "data": {
      "text/plain": [
       "111"
      ]
     },
     "execution_count": 52,
     "metadata": {},
     "output_type": "execute_result"
    }
   ],
   "source": [
    "missing = [g for g in all_genes if g not in snpres.Gene.tolist()]\n",
    "len(missing)"
   ]
  },
  {
   "cell_type": "code",
   "execution_count": null,
   "metadata": {},
   "outputs": [],
   "source": []
  },
  {
   "cell_type": "code",
   "execution_count": 21,
   "metadata": {},
   "outputs": [
    {
     "data": {
      "text/html": [
       "<div>\n",
       "<style scoped>\n",
       "    .dataframe tbody tr th:only-of-type {\n",
       "        vertical-align: middle;\n",
       "    }\n",
       "\n",
       "    .dataframe tbody tr th {\n",
       "        vertical-align: top;\n",
       "    }\n",
       "\n",
       "    .dataframe thead th {\n",
       "        text-align: right;\n",
       "    }\n",
       "</style>\n",
       "<table border=\"1\" class=\"dataframe\">\n",
       "  <thead>\n",
       "    <tr style=\"text-align: right;\">\n",
       "      <th></th>\n",
       "      <th>Seqid</th>\n",
       "      <th>Source</th>\n",
       "      <th>Type</th>\n",
       "      <th>Start</th>\n",
       "      <th>End</th>\n",
       "      <th>Score</th>\n",
       "      <th>Strand</th>\n",
       "      <th>Phase</th>\n",
       "      <th>Attribute</th>\n",
       "      <th>Parent</th>\n",
       "      <th>Gene</th>\n",
       "    </tr>\n",
       "  </thead>\n",
       "  <tbody>\n",
       "    <tr>\n",
       "      <th>93511</th>\n",
       "      <td>CP003822.1</td>\n",
       "      <td>EuPathDB</td>\n",
       "      <td>gene</td>\n",
       "      <td>1038093</td>\n",
       "      <td>1043768</td>\n",
       "      <td>.</td>\n",
       "      <td>-1</td>\n",
       "      <td>.</td>\n",
       "      <td>ID=CNAG_02680;description=VPS15 protein kinase</td>\n",
       "      <td>CNAG_02680</td>\n",
       "      <td>CNAG_02680</td>\n",
       "    </tr>\n",
       "  </tbody>\n",
       "</table>\n",
       "</div>"
      ],
      "text/plain": [
       "            Seqid    Source  Type    Start      End Score  Strand Phase  \\\n",
       "93511  CP003822.1  EuPathDB  gene  1038093  1043768     .      -1     .   \n",
       "\n",
       "                                            Attribute      Parent        Gene  \n",
       "93511  ID=CNAG_02680;description=VPS15 protein kinase  CNAG_02680  CNAG_02680  "
      ]
     },
     "execution_count": 21,
     "metadata": {},
     "output_type": "execute_result"
    }
   ],
   "source": [
    "gff[(gff.Type=='gene') & (gff.Gene=='CNAG_02680')]"
   ]
  },
  {
   "cell_type": "code",
   "execution_count": 22,
   "metadata": {},
   "outputs": [
    {
     "data": {
      "text/html": [
       "<div>\n",
       "<style scoped>\n",
       "    .dataframe tbody tr th:only-of-type {\n",
       "        vertical-align: middle;\n",
       "    }\n",
       "\n",
       "    .dataframe tbody tr th {\n",
       "        vertical-align: top;\n",
       "    }\n",
       "\n",
       "    .dataframe thead th {\n",
       "        text-align: right;\n",
       "    }\n",
       "</style>\n",
       "<table border=\"1\" class=\"dataframe\">\n",
       "  <thead>\n",
       "    <tr style=\"text-align: right;\">\n",
       "      <th></th>\n",
       "      <th>Alt</th>\n",
       "      <th>Ref</th>\n",
       "      <th>Pos</th>\n",
       "      <th>Altlen</th>\n",
       "    </tr>\n",
       "  </thead>\n",
       "  <tbody>\n",
       "    <tr>\n",
       "      <th>114904</th>\n",
       "      <td>A.G</td>\n",
       "      <td>A</td>\n",
       "      <td>1043157</td>\n",
       "      <td>1</td>\n",
       "    </tr>\n",
       "    <tr>\n",
       "      <th>114905</th>\n",
       "      <td>A.T</td>\n",
       "      <td>A</td>\n",
       "      <td>1043297</td>\n",
       "      <td>1</td>\n",
       "    </tr>\n",
       "    <tr>\n",
       "      <th>114906</th>\n",
       "      <td>G.T</td>\n",
       "      <td>G</td>\n",
       "      <td>1043486</td>\n",
       "      <td>1</td>\n",
       "    </tr>\n",
       "    <tr>\n",
       "      <th>114907</th>\n",
       "      <td>G.A</td>\n",
       "      <td>G</td>\n",
       "      <td>1043684</td>\n",
       "      <td>1</td>\n",
       "    </tr>\n",
       "    <tr>\n",
       "      <th>114908</th>\n",
       "      <td>ACCCCGCCGCA.ACCCGCCGCA</td>\n",
       "      <td>ACCCCGCCGCA</td>\n",
       "      <td>1043753</td>\n",
       "      <td>10</td>\n",
       "    </tr>\n",
       "  </tbody>\n",
       "</table>\n",
       "</div>"
      ],
      "text/plain": [
       "                           Alt          Ref      Pos  Altlen\n",
       "114904                     A.G            A  1043157       1\n",
       "114905                     A.T            A  1043297       1\n",
       "114906                     G.T            G  1043486       1\n",
       "114907                     G.A            G  1043684       1\n",
       "114908  ACCCCGCCGCA.ACCCGCCGCA  ACCCCGCCGCA  1043753      10"
      ]
     },
     "execution_count": 22,
     "metadata": {},
     "output_type": "execute_result"
    }
   ],
   "source": [
    "SNP[(SNP.Pos.isin(np.arange(1038093,1043769))) & (SNP.Chrom==3)][['Alt','Ref','Pos','Altlen']].tail()"
   ]
  },
  {
   "cell_type": "code",
   "execution_count": 23,
   "metadata": {},
   "outputs": [
    {
     "data": {
      "text/html": [
       "<div>\n",
       "<style scoped>\n",
       "    .dataframe tbody tr th:only-of-type {\n",
       "        vertical-align: middle;\n",
       "    }\n",
       "\n",
       "    .dataframe tbody tr th {\n",
       "        vertical-align: top;\n",
       "    }\n",
       "\n",
       "    .dataframe thead th {\n",
       "        text-align: right;\n",
       "    }\n",
       "</style>\n",
       "<table border=\"1\" class=\"dataframe\">\n",
       "  <thead>\n",
       "    <tr style=\"text-align: right;\">\n",
       "      <th></th>\n",
       "      <th>Seqid</th>\n",
       "      <th>Source</th>\n",
       "      <th>Type</th>\n",
       "      <th>Start</th>\n",
       "      <th>End</th>\n",
       "      <th>Score</th>\n",
       "      <th>Strand</th>\n",
       "      <th>Phase</th>\n",
       "      <th>Attribute</th>\n",
       "      <th>Parent</th>\n",
       "      <th>Gene</th>\n",
       "    </tr>\n",
       "  </thead>\n",
       "  <tbody>\n",
       "    <tr>\n",
       "      <th>634</th>\n",
       "      <td>CP003822.1</td>\n",
       "      <td>EuPathDB</td>\n",
       "      <td>gene</td>\n",
       "      <td>1104486</td>\n",
       "      <td>1105762</td>\n",
       "      <td>.</td>\n",
       "      <td>-1</td>\n",
       "      <td>.</td>\n",
       "      <td>ID=CNAG_12298;description=unspecified product</td>\n",
       "      <td>CNAG_12298</td>\n",
       "      <td>CNAG_12298</td>\n",
       "    </tr>\n",
       "    <tr>\n",
       "      <th>635</th>\n",
       "      <td>CP003822.1</td>\n",
       "      <td>EuPathDB</td>\n",
       "      <td>ncRNA</td>\n",
       "      <td>1104486</td>\n",
       "      <td>1105762</td>\n",
       "      <td>.</td>\n",
       "      <td>-1</td>\n",
       "      <td>.</td>\n",
       "      <td>ID=CNAG_12298-t26_1;Parent=CNAG_12298;descript...</td>\n",
       "      <td>CNAG_12298</td>\n",
       "      <td>CNAG_12298</td>\n",
       "    </tr>\n",
       "    <tr>\n",
       "      <th>636</th>\n",
       "      <td>CP003822.1</td>\n",
       "      <td>EuPathDB</td>\n",
       "      <td>exon</td>\n",
       "      <td>1104486</td>\n",
       "      <td>1105296</td>\n",
       "      <td>.</td>\n",
       "      <td>-1</td>\n",
       "      <td>.</td>\n",
       "      <td>ID=exon_CNAG_12298-E2;Parent=CNAG_12298-t26_1</td>\n",
       "      <td>CNAG_12298-t26_1</td>\n",
       "      <td>CNAG_12298</td>\n",
       "    </tr>\n",
       "    <tr>\n",
       "      <th>637</th>\n",
       "      <td>CP003822.1</td>\n",
       "      <td>EuPathDB</td>\n",
       "      <td>exon</td>\n",
       "      <td>1105353</td>\n",
       "      <td>1105762</td>\n",
       "      <td>.</td>\n",
       "      <td>-1</td>\n",
       "      <td>.</td>\n",
       "      <td>ID=exon_CNAG_12298-E1;Parent=CNAG_12298-t26_1</td>\n",
       "      <td>CNAG_12298-t26_1</td>\n",
       "      <td>CNAG_12298</td>\n",
       "    </tr>\n",
       "    <tr>\n",
       "      <th>1078</th>\n",
       "      <td>CP003822.1</td>\n",
       "      <td>EuPathDB</td>\n",
       "      <td>gene</td>\n",
       "      <td>1012931</td>\n",
       "      <td>1013442</td>\n",
       "      <td>.</td>\n",
       "      <td>1</td>\n",
       "      <td>.</td>\n",
       "      <td>ID=CNAG_12288;description=unspecified product</td>\n",
       "      <td>CNAG_12288</td>\n",
       "      <td>CNAG_12288</td>\n",
       "    </tr>\n",
       "    <tr>\n",
       "      <th>...</th>\n",
       "      <td>...</td>\n",
       "      <td>...</td>\n",
       "      <td>...</td>\n",
       "      <td>...</td>\n",
       "      <td>...</td>\n",
       "      <td>...</td>\n",
       "      <td>...</td>\n",
       "      <td>...</td>\n",
       "      <td>...</td>\n",
       "      <td>...</td>\n",
       "      <td>...</td>\n",
       "    </tr>\n",
       "    <tr>\n",
       "      <th>132809</th>\n",
       "      <td>CP003822.1</td>\n",
       "      <td>EuPathDB</td>\n",
       "      <td>exon</td>\n",
       "      <td>999875</td>\n",
       "      <td>1001950</td>\n",
       "      <td>.</td>\n",
       "      <td>1</td>\n",
       "      <td>.</td>\n",
       "      <td>ID=exon_CNAG_12286-E3;Parent=CNAG_12286-t26_1</td>\n",
       "      <td>CNAG_12286-t26_1</td>\n",
       "      <td>CNAG_12286</td>\n",
       "    </tr>\n",
       "    <tr>\n",
       "      <th>133722</th>\n",
       "      <td>CP003820.1</td>\n",
       "      <td>EuPathDB</td>\n",
       "      <td>gene</td>\n",
       "      <td>1183354</td>\n",
       "      <td>1184742</td>\n",
       "      <td>.</td>\n",
       "      <td>-1</td>\n",
       "      <td>.</td>\n",
       "      <td>ID=CNAG_12059;description=unspecified product</td>\n",
       "      <td>CNAG_12059</td>\n",
       "      <td>CNAG_12059</td>\n",
       "    </tr>\n",
       "    <tr>\n",
       "      <th>133723</th>\n",
       "      <td>CP003820.1</td>\n",
       "      <td>EuPathDB</td>\n",
       "      <td>ncRNA</td>\n",
       "      <td>1183354</td>\n",
       "      <td>1184742</td>\n",
       "      <td>.</td>\n",
       "      <td>-1</td>\n",
       "      <td>.</td>\n",
       "      <td>ID=CNAG_12059-t26_1;Parent=CNAG_12059;descript...</td>\n",
       "      <td>CNAG_12059</td>\n",
       "      <td>CNAG_12059</td>\n",
       "    </tr>\n",
       "    <tr>\n",
       "      <th>133724</th>\n",
       "      <td>CP003820.1</td>\n",
       "      <td>EuPathDB</td>\n",
       "      <td>exon</td>\n",
       "      <td>1183354</td>\n",
       "      <td>1184133</td>\n",
       "      <td>.</td>\n",
       "      <td>-1</td>\n",
       "      <td>.</td>\n",
       "      <td>ID=exon_CNAG_12059-E2;Parent=CNAG_12059-t26_1</td>\n",
       "      <td>CNAG_12059-t26_1</td>\n",
       "      <td>CNAG_12059</td>\n",
       "    </tr>\n",
       "    <tr>\n",
       "      <th>133725</th>\n",
       "      <td>CP003820.1</td>\n",
       "      <td>EuPathDB</td>\n",
       "      <td>exon</td>\n",
       "      <td>1184589</td>\n",
       "      <td>1184742</td>\n",
       "      <td>.</td>\n",
       "      <td>-1</td>\n",
       "      <td>.</td>\n",
       "      <td>ID=exon_CNAG_12059-E1;Parent=CNAG_12059-t26_1</td>\n",
       "      <td>CNAG_12059-t26_1</td>\n",
       "      <td>CNAG_12059</td>\n",
       "    </tr>\n",
       "  </tbody>\n",
       "</table>\n",
       "<p>1524 rows × 11 columns</p>\n",
       "</div>"
      ],
      "text/plain": [
       "             Seqid    Source   Type    Start      End Score  Strand Phase  \\\n",
       "634     CP003822.1  EuPathDB   gene  1104486  1105762     .      -1     .   \n",
       "635     CP003822.1  EuPathDB  ncRNA  1104486  1105762     .      -1     .   \n",
       "636     CP003822.1  EuPathDB   exon  1104486  1105296     .      -1     .   \n",
       "637     CP003822.1  EuPathDB   exon  1105353  1105762     .      -1     .   \n",
       "1078    CP003822.1  EuPathDB   gene  1012931  1013442     .       1     .   \n",
       "...            ...       ...    ...      ...      ...   ...     ...   ...   \n",
       "132809  CP003822.1  EuPathDB   exon   999875  1001950     .       1     .   \n",
       "133722  CP003820.1  EuPathDB   gene  1183354  1184742     .      -1     .   \n",
       "133723  CP003820.1  EuPathDB  ncRNA  1183354  1184742     .      -1     .   \n",
       "133724  CP003820.1  EuPathDB   exon  1183354  1184133     .      -1     .   \n",
       "133725  CP003820.1  EuPathDB   exon  1184589  1184742     .      -1     .   \n",
       "\n",
       "                                                Attribute            Parent  \\\n",
       "634         ID=CNAG_12298;description=unspecified product        CNAG_12298   \n",
       "635     ID=CNAG_12298-t26_1;Parent=CNAG_12298;descript...        CNAG_12298   \n",
       "636         ID=exon_CNAG_12298-E2;Parent=CNAG_12298-t26_1  CNAG_12298-t26_1   \n",
       "637         ID=exon_CNAG_12298-E1;Parent=CNAG_12298-t26_1  CNAG_12298-t26_1   \n",
       "1078        ID=CNAG_12288;description=unspecified product        CNAG_12288   \n",
       "...                                                   ...               ...   \n",
       "132809      ID=exon_CNAG_12286-E3;Parent=CNAG_12286-t26_1  CNAG_12286-t26_1   \n",
       "133722      ID=CNAG_12059;description=unspecified product        CNAG_12059   \n",
       "133723  ID=CNAG_12059-t26_1;Parent=CNAG_12059;descript...        CNAG_12059   \n",
       "133724      ID=exon_CNAG_12059-E2;Parent=CNAG_12059-t26_1  CNAG_12059-t26_1   \n",
       "133725      ID=exon_CNAG_12059-E1;Parent=CNAG_12059-t26_1  CNAG_12059-t26_1   \n",
       "\n",
       "              Gene  \n",
       "634     CNAG_12298  \n",
       "635     CNAG_12298  \n",
       "636     CNAG_12298  \n",
       "637     CNAG_12298  \n",
       "1078    CNAG_12288  \n",
       "...            ...  \n",
       "132809  CNAG_12286  \n",
       "133722  CNAG_12059  \n",
       "133723  CNAG_12059  \n",
       "133724  CNAG_12059  \n",
       "133725  CNAG_12059  \n",
       "\n",
       "[1524 rows x 11 columns]"
      ]
     },
     "execution_count": 23,
     "metadata": {},
     "output_type": "execute_result"
    }
   ],
   "source": [
    "gff[(gff.Gene.isin(missing))]"
   ]
  },
  {
   "cell_type": "code",
   "execution_count": 24,
   "metadata": {},
   "outputs": [
    {
     "data": {
      "text/html": [
       "<div>\n",
       "<style scoped>\n",
       "    .dataframe tbody tr th:only-of-type {\n",
       "        vertical-align: middle;\n",
       "    }\n",
       "\n",
       "    .dataframe tbody tr th {\n",
       "        vertical-align: top;\n",
       "    }\n",
       "\n",
       "    .dataframe thead th {\n",
       "        text-align: right;\n",
       "    }\n",
       "</style>\n",
       "<table border=\"1\" class=\"dataframe\">\n",
       "  <thead>\n",
       "    <tr style=\"text-align: right;\">\n",
       "      <th></th>\n",
       "      <th>Strain</th>\n",
       "      <th>Gene</th>\n",
       "      <th>Parent</th>\n",
       "      <th>Expected</th>\n",
       "      <th>Ref</th>\n",
       "      <th>Alt</th>\n",
       "      <th>Refstop</th>\n",
       "      <th>Altstop</th>\n",
       "      <th>Nonsyn</th>\n",
       "      <th>Nvars</th>\n",
       "      <th>Utr5</th>\n",
       "      <th>Utr3</th>\n",
       "      <th>Exon</th>\n",
       "      <th>Intron</th>\n",
       "      <th>Strand</th>\n",
       "      <th>Start</th>\n",
       "      <th>End</th>\n",
       "      <th>Seqid</th>\n",
       "      <th>Description</th>\n",
       "      <th>Lengthdif</th>\n",
       "    </tr>\n",
       "  </thead>\n",
       "  <tbody>\n",
       "    <tr>\n",
       "      <th>46</th>\n",
       "      <td>19</td>\n",
       "      <td>CNAG_02700</td>\n",
       "      <td>CNAG_02700-t26_1</td>\n",
       "      <td>1561.0</td>\n",
       "      <td>1561</td>\n",
       "      <td>95</td>\n",
       "      <td>1</td>\n",
       "      <td>2</td>\n",
       "      <td>22</td>\n",
       "      <td>62</td>\n",
       "      <td>3</td>\n",
       "      <td>3</td>\n",
       "      <td>53</td>\n",
       "      <td>3</td>\n",
       "      <td>-1</td>\n",
       "      <td>970996</td>\n",
       "      <td>976412</td>\n",
       "      <td>CP003822.1</td>\n",
       "      <td>C2H2 type zinc finger transcription factor</td>\n",
       "      <td>0.939142</td>\n",
       "    </tr>\n",
       "    <tr>\n",
       "      <th>47</th>\n",
       "      <td>19</td>\n",
       "      <td>CNAG_02700</td>\n",
       "      <td>CNAG_02700-t26_2</td>\n",
       "      <td>1562.0</td>\n",
       "      <td>1562</td>\n",
       "      <td>95</td>\n",
       "      <td>1</td>\n",
       "      <td>2</td>\n",
       "      <td>22</td>\n",
       "      <td>62</td>\n",
       "      <td>3</td>\n",
       "      <td>3</td>\n",
       "      <td>53</td>\n",
       "      <td>3</td>\n",
       "      <td>-1</td>\n",
       "      <td>970996</td>\n",
       "      <td>976412</td>\n",
       "      <td>CP003822.1</td>\n",
       "      <td>C2H2 type zinc finger transcription factor</td>\n",
       "      <td>0.939181</td>\n",
       "    </tr>\n",
       "    <tr>\n",
       "      <th>55</th>\n",
       "      <td>19</td>\n",
       "      <td>CNAG_01883</td>\n",
       "      <td>CNAG_01883-t26_1</td>\n",
       "      <td>322.0</td>\n",
       "      <td>322</td>\n",
       "      <td>144</td>\n",
       "      <td>1</td>\n",
       "      <td>2</td>\n",
       "      <td>14</td>\n",
       "      <td>43</td>\n",
       "      <td>0</td>\n",
       "      <td>0</td>\n",
       "      <td>20</td>\n",
       "      <td>23</td>\n",
       "      <td>-1</td>\n",
       "      <td>1171247</td>\n",
       "      <td>1173092</td>\n",
       "      <td>CP003830.1</td>\n",
       "      <td>hypothetical protein</td>\n",
       "      <td>0.552795</td>\n",
       "    </tr>\n",
       "    <tr>\n",
       "      <th>70</th>\n",
       "      <td>19</td>\n",
       "      <td>CNAG_07611</td>\n",
       "      <td>CNAG_07611-t26_1</td>\n",
       "      <td>67.0</td>\n",
       "      <td>67</td>\n",
       "      <td>40</td>\n",
       "      <td>1</td>\n",
       "      <td>2</td>\n",
       "      <td>6</td>\n",
       "      <td>6</td>\n",
       "      <td>0</td>\n",
       "      <td>0</td>\n",
       "      <td>3</td>\n",
       "      <td>3</td>\n",
       "      <td>-1</td>\n",
       "      <td>1170371</td>\n",
       "      <td>1170866</td>\n",
       "      <td>CP003830.1</td>\n",
       "      <td>hypothetical protein</td>\n",
       "      <td>0.402985</td>\n",
       "    </tr>\n",
       "    <tr>\n",
       "      <th>76</th>\n",
       "      <td>19</td>\n",
       "      <td>CNAG_07610</td>\n",
       "      <td>CNAG_07610-t26_1</td>\n",
       "      <td>108.0</td>\n",
       "      <td>108</td>\n",
       "      <td>109</td>\n",
       "      <td>1</td>\n",
       "      <td>0</td>\n",
       "      <td>4</td>\n",
       "      <td>8</td>\n",
       "      <td>0</td>\n",
       "      <td>3</td>\n",
       "      <td>3</td>\n",
       "      <td>2</td>\n",
       "      <td>1</td>\n",
       "      <td>1119077</td>\n",
       "      <td>1119717</td>\n",
       "      <td>CP003830.1</td>\n",
       "      <td>hypothetical protein</td>\n",
       "      <td>0.009259</td>\n",
       "    </tr>\n",
       "    <tr>\n",
       "      <th>108</th>\n",
       "      <td>19</td>\n",
       "      <td>CNAG_07969</td>\n",
       "      <td>CNAG_07969-t26_1</td>\n",
       "      <td>309.0</td>\n",
       "      <td>309</td>\n",
       "      <td>34</td>\n",
       "      <td>1</td>\n",
       "      <td>8</td>\n",
       "      <td>67</td>\n",
       "      <td>25</td>\n",
       "      <td>0</td>\n",
       "      <td>0</td>\n",
       "      <td>22</td>\n",
       "      <td>3</td>\n",
       "      <td>1</td>\n",
       "      <td>930460</td>\n",
       "      <td>931520</td>\n",
       "      <td>CP003822.1</td>\n",
       "      <td>hypothetical protein</td>\n",
       "      <td>0.889968</td>\n",
       "    </tr>\n",
       "    <tr>\n",
       "      <th>124</th>\n",
       "      <td>19</td>\n",
       "      <td>CNAG_07528</td>\n",
       "      <td>CNAG_07528-t26_1</td>\n",
       "      <td>463.0</td>\n",
       "      <td>463</td>\n",
       "      <td>404</td>\n",
       "      <td>1</td>\n",
       "      <td>2</td>\n",
       "      <td>69</td>\n",
       "      <td>26</td>\n",
       "      <td>0</td>\n",
       "      <td>1</td>\n",
       "      <td>23</td>\n",
       "      <td>2</td>\n",
       "      <td>-1</td>\n",
       "      <td>1070491</td>\n",
       "      <td>1072131</td>\n",
       "      <td>CP003822.1</td>\n",
       "      <td>hypothetical protein</td>\n",
       "      <td>0.127430</td>\n",
       "    </tr>\n",
       "    <tr>\n",
       "      <th>125</th>\n",
       "      <td>19</td>\n",
       "      <td>CNAG_01836</td>\n",
       "      <td>CNAG_01836-t26_1</td>\n",
       "      <td>521.0</td>\n",
       "      <td>521</td>\n",
       "      <td>503</td>\n",
       "      <td>1</td>\n",
       "      <td>2</td>\n",
       "      <td>18</td>\n",
       "      <td>31</td>\n",
       "      <td>0</td>\n",
       "      <td>0</td>\n",
       "      <td>23</td>\n",
       "      <td>8</td>\n",
       "      <td>1</td>\n",
       "      <td>1042367</td>\n",
       "      <td>1044262</td>\n",
       "      <td>CP003830.1</td>\n",
       "      <td>long-chain acyl-CoA synthetase</td>\n",
       "      <td>0.034549</td>\n",
       "    </tr>\n",
       "  </tbody>\n",
       "</table>\n",
       "</div>"
      ],
      "text/plain": [
       "     Strain        Gene            Parent  Expected   Ref  Alt  Refstop  \\\n",
       "46       19  CNAG_02700  CNAG_02700-t26_1    1561.0  1561   95        1   \n",
       "47       19  CNAG_02700  CNAG_02700-t26_2    1562.0  1562   95        1   \n",
       "55       19  CNAG_01883  CNAG_01883-t26_1     322.0   322  144        1   \n",
       "70       19  CNAG_07611  CNAG_07611-t26_1      67.0    67   40        1   \n",
       "76       19  CNAG_07610  CNAG_07610-t26_1     108.0   108  109        1   \n",
       "108      19  CNAG_07969  CNAG_07969-t26_1     309.0   309   34        1   \n",
       "124      19  CNAG_07528  CNAG_07528-t26_1     463.0   463  404        1   \n",
       "125      19  CNAG_01836  CNAG_01836-t26_1     521.0   521  503        1   \n",
       "\n",
       "     Altstop  Nonsyn  Nvars  Utr5  Utr3  Exon  Intron  Strand    Start  \\\n",
       "46         2      22     62     3     3    53       3      -1   970996   \n",
       "47         2      22     62     3     3    53       3      -1   970996   \n",
       "55         2      14     43     0     0    20      23      -1  1171247   \n",
       "70         2       6      6     0     0     3       3      -1  1170371   \n",
       "76         0       4      8     0     3     3       2       1  1119077   \n",
       "108        8      67     25     0     0    22       3       1   930460   \n",
       "124        2      69     26     0     1    23       2      -1  1070491   \n",
       "125        2      18     31     0     0    23       8       1  1042367   \n",
       "\n",
       "         End       Seqid                                 Description  \\\n",
       "46    976412  CP003822.1  C2H2 type zinc finger transcription factor   \n",
       "47    976412  CP003822.1  C2H2 type zinc finger transcription factor   \n",
       "55   1173092  CP003830.1                        hypothetical protein   \n",
       "70   1170866  CP003830.1                        hypothetical protein   \n",
       "76   1119717  CP003830.1                        hypothetical protein   \n",
       "108   931520  CP003822.1                        hypothetical protein   \n",
       "124  1072131  CP003822.1                        hypothetical protein   \n",
       "125  1044262  CP003830.1              long-chain acyl-CoA synthetase   \n",
       "\n",
       "     Lengthdif  \n",
       "46    0.939142  \n",
       "47    0.939181  \n",
       "55    0.552795  \n",
       "70    0.402985  \n",
       "76    0.009259  \n",
       "108   0.889968  \n",
       "124   0.127430  \n",
       "125   0.034549  "
      ]
     },
     "execution_count": 24,
     "metadata": {},
     "output_type": "execute_result"
    }
   ],
   "source": [
    "snpres[(snpres.Altstop!=1)]"
   ]
  },
  {
   "cell_type": "code",
   "execution_count": null,
   "metadata": {},
   "outputs": [],
   "source": []
  },
  {
   "cell_type": "code",
   "execution_count": 25,
   "metadata": {},
   "outputs": [
    {
     "ename": "NameError",
     "evalue": "name 'plt' is not defined",
     "output_type": "error",
     "traceback": [
      "\u001b[0;31m---------------------------------------------------------------------------\u001b[0m",
      "\u001b[0;31mNameError\u001b[0m                                 Traceback (most recent call last)",
      "\u001b[0;32m<ipython-input-25-5dd726c04129>\u001b[0m in \u001b[0;36m<module>\u001b[0;34m\u001b[0m\n\u001b[0;32m----> 1\u001b[0;31m \u001b[0mplt\u001b[0m\u001b[0;34m.\u001b[0m\u001b[0mplot\u001b[0m\u001b[0;34m(\u001b[0m\u001b[0msnpres\u001b[0m\u001b[0;34m.\u001b[0m\u001b[0mAltstop\u001b[0m\u001b[0;34m,\u001b[0m\u001b[0msnpres\u001b[0m\u001b[0;34m.\u001b[0m\u001b[0mLengthdif\u001b[0m\u001b[0;34m,\u001b[0m\u001b[0;34m'.'\u001b[0m\u001b[0;34m)\u001b[0m\u001b[0;34m;\u001b[0m\u001b[0;34m\u001b[0m\u001b[0;34m\u001b[0m\u001b[0m\n\u001b[0m",
      "\u001b[0;31mNameError\u001b[0m: name 'plt' is not defined"
     ]
    }
   ],
   "source": [
    "plt.plot(snpres.Altstop,snpres.Lengthdif,'.');"
   ]
  },
  {
   "cell_type": "code",
   "execution_count": null,
   "metadata": {},
   "outputs": [],
   "source": [
    "qtl = SNP3[(SNP3.Pos>=qtlleft) & (SNP3.Pos<=qtlrigh)]"
   ]
  },
  {
   "cell_type": "code",
   "execution_count": null,
   "metadata": {},
   "outputs": [],
   "source": []
  },
  {
   "cell_type": "code",
   "execution_count": null,
   "metadata": {},
   "outputs": [],
   "source": [
    "snpres.Gene.unique().shape[0]"
   ]
  },
  {
   "cell_type": "code",
   "execution_count": null,
   "metadata": {},
   "outputs": [],
   "source": [
    "snpres.shape"
   ]
  },
  {
   "cell_type": "code",
   "execution_count": null,
   "metadata": {},
   "outputs": [],
   "source": [
    "missing = [g for g in chr3_genes if g not in snpres.Gene.tolist()]\n",
    "len(missing)"
   ]
  },
  {
   "cell_type": "code",
   "execution_count": null,
   "metadata": {},
   "outputs": [],
   "source": [
    "gff3[(gff3.Gene=='CNAG_12291')]"
   ]
  },
  {
   "cell_type": "code",
   "execution_count": null,
   "metadata": {},
   "outputs": [],
   "source": [
    "gffgenes[(gffgenes.Gene.isin(missing))]"
   ]
  },
  {
   "cell_type": "code",
   "execution_count": null,
   "metadata": {},
   "outputs": [],
   "source": []
  },
  {
   "cell_type": "code",
   "execution_count": null,
   "metadata": {},
   "outputs": [],
   "source": [
    "hypos = ['hypothetical protein','hypothetical protein hypothetical protein variant',\n",
    "         'hypothetical protein hypothetical protein variant 1 hypothetical protein variant 2']"
   ]
  },
  {
   "cell_type": "code",
   "execution_count": null,
   "metadata": {},
   "outputs": [],
   "source": [
    "snpres[(snpres.Description.isin(hypos))].shape"
   ]
  },
  {
   "cell_type": "code",
   "execution_count": null,
   "metadata": {},
   "outputs": [],
   "source": [
    "snpres[~(snpres.Description.isin(hypos))].shape"
   ]
  },
  {
   "cell_type": "code",
   "execution_count": null,
   "metadata": {},
   "outputs": [],
   "source": [
    "from matplotlib import pyplot as plt"
   ]
  },
  {
   "cell_type": "code",
   "execution_count": null,
   "metadata": {},
   "outputs": [],
   "source": [
    "k = snpres[~(snpres.Description.isin(hypos))].Nonsyn.values"
   ]
  },
  {
   "cell_type": "code",
   "execution_count": null,
   "metadata": {},
   "outputs": [],
   "source": [
    "counts = [len(k[(k == i)]) for i in range(11)] + [len(k[(k>=11)])]"
   ]
  },
  {
   "cell_type": "code",
   "execution_count": null,
   "metadata": {},
   "outputs": [],
   "source": [
    "plt.vlines(list(np.arange(11))+[11],0,counts);"
   ]
  },
  {
   "cell_type": "code",
   "execution_count": null,
   "metadata": {},
   "outputs": [],
   "source": [
    "snpres[(snpres.Nonsyn>11)]"
   ]
  },
  {
   "cell_type": "code",
   "execution_count": null,
   "metadata": {},
   "outputs": [],
   "source": [
    "len(k[(k>8)])"
   ]
  },
  {
   "cell_type": "code",
   "execution_count": null,
   "metadata": {},
   "outputs": [],
   "source": [
    "gff3[(gff3.Gene.isin(snpres[(snpres.Altstop!=1)].Gene.tolist())) & (gff3.Type=='gene')]"
   ]
  },
  {
   "cell_type": "code",
   "execution_count": null,
   "metadata": {},
   "outputs": [],
   "source": [
    "snpres[(snpres.Gene=='CNAG_07529')]"
   ]
  },
  {
   "cell_type": "code",
   "execution_count": null,
   "metadata": {},
   "outputs": [],
   "source": [
    "'CNAG_07529' in chr3_genes"
   ]
  },
  {
   "cell_type": "code",
   "execution_count": null,
   "metadata": {},
   "outputs": [],
   "source": [
    "gff[(gff.Type=='gene') & (gff.Gene=='CNAG_07529')]"
   ]
  },
  {
   "cell_type": "code",
   "execution_count": null,
   "metadata": {},
   "outputs": [],
   "source": [
    "chr3name"
   ]
  },
  {
   "cell_type": "code",
   "execution_count": null,
   "metadata": {},
   "outputs": [],
   "source": [
    "qtlleft"
   ]
  },
  {
   "cell_type": "code",
   "execution_count": null,
   "metadata": {},
   "outputs": [],
   "source": [
    "qtlrigh"
   ]
  },
  {
   "cell_type": "code",
   "execution_count": null,
   "metadata": {},
   "outputs": [],
   "source": [
    "test = snpy.loadgene('../GENOTYPE/GENES/P19/CNAG_07529-t26_1.csv.gz')"
   ]
  },
  {
   "cell_type": "code",
   "execution_count": null,
   "metadata": {},
   "outputs": [],
   "source": [
    "test.Pos.min()"
   ]
  },
  {
   "cell_type": "code",
   "execution_count": null,
   "metadata": {},
   "outputs": [],
   "source": [
    "test.Pos.max()"
   ]
  },
  {
   "cell_type": "code",
   "execution_count": null,
   "metadata": {},
   "outputs": [],
   "source": [
    "gff[(gff.Gene=='CNAG_07529') & (gff.Type.isin(foi))].Start.min()"
   ]
  },
  {
   "cell_type": "code",
   "execution_count": null,
   "metadata": {},
   "outputs": [],
   "source": [
    "gff[(gff.Gene=='CNAG_07529') & (gff.Type.isin(foi))].End.max()"
   ]
  },
  {
   "cell_type": "code",
   "execution_count": null,
   "metadata": {},
   "outputs": [],
   "source": [
    "test"
   ]
  },
  {
   "cell_type": "code",
   "execution_count": null,
   "metadata": {},
   "outputs": [],
   "source": [
    "znf3start = gff3[(gff3.Gene=='CNAG_02700') & (gff3.Type=='gene')].Start.min()\n",
    "znf3end = gff3[(gff3.Gene=='CNAG_02700') & (gff3.Type=='gene')].End.max()\n",
    "\n",
    "znf3start,znf3end"
   ]
  },
  {
   "cell_type": "code",
   "execution_count": null,
   "metadata": {},
   "outputs": [],
   "source": [
    "temp = SNP[(SNP.Seqid==chr3_name) & (SNP.Pos>=znf3start) & (SNP.Pos<=znf3end)]"
   ]
  },
  {
   "cell_type": "code",
   "execution_count": null,
   "metadata": {},
   "outputs": [],
   "source": [
    "temp[['19','Pos']]"
   ]
  },
  {
   "cell_type": "code",
   "execution_count": null,
   "metadata": {},
   "outputs": [],
   "source": []
  }
 ],
 "metadata": {
  "kernelspec": {
   "display_name": "Python 3",
   "language": "python",
   "name": "python3"
  },
  "language_info": {
   "codemirror_mode": {
    "name": "ipython",
    "version": 3
   },
   "file_extension": ".py",
   "mimetype": "text/x-python",
   "name": "python",
   "nbconvert_exporter": "python",
   "pygments_lexer": "ipython3",
   "version": "3.7.3"
  }
 },
 "nbformat": 4,
 "nbformat_minor": 4
}
